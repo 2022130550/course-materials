{
 "cells": [
  {
   "cell_type": "markdown",
   "metadata": {},
   "source": [
    "## 숫자 자료형\n",
    "\n",
    "### 숫자 자료형의 종류\n",
    "\n",
    "- 정수 (int)\n",
    "- 실수 (float, double)\n",
    "  - **float** : 32자리 실수\n",
    "  - **double** : 64자리 실수 (파이썬에는 없음)\n"
   ]
  },
  {
   "cell_type": "code",
   "execution_count": null,
   "metadata": {},
   "outputs": [],
   "source": [
    "a = 1\n",
    "type(a)"
   ]
  },
  {
   "cell_type": "code",
   "execution_count": null,
   "metadata": {},
   "outputs": [],
   "source": [
    "b = 1.6\n",
    "type(b)"
   ]
  },
  {
   "cell_type": "markdown",
   "metadata": {},
   "source": [
    "파이썬에서 정수는 32 비트로 표현되는 것을 알 수 있다. 32비트 정수의 최대값은 $$ 2^{31}-1 $$ 이다.\n"
   ]
  },
  {
   "cell_type": "markdown",
   "metadata": {},
   "source": [
    "### 형 변환(type conversion)\n",
    "\n",
    "실수를 정수로 바꾸거나, 정수를 실수로 바꾸는 것을 형 변환(type conversion)이라고 한다.\n"
   ]
  },
  {
   "cell_type": "code",
   "execution_count": null,
   "metadata": {},
   "outputs": [],
   "source": [
    "# 형변환 (실수 -> 정수)\n",
    "int(b)"
   ]
  },
  {
   "cell_type": "code",
   "execution_count": null,
   "metadata": {},
   "outputs": [],
   "source": [
    "# 형변환 (정수 -> 실수)\n",
    "float(a)"
   ]
  },
  {
   "cell_type": "code",
   "execution_count": null,
   "metadata": {},
   "outputs": [],
   "source": [
    "# 8진수 표현법\n",
    "a = 0o711\n",
    "print(a)"
   ]
  },
  {
   "cell_type": "code",
   "execution_count": null,
   "metadata": {},
   "outputs": [],
   "source": [
    "# 16진수 표현법\n",
    "a = 0x711\n",
    "print(a)"
   ]
  },
  {
   "cell_type": "markdown",
   "metadata": {},
   "source": [
    "## 문자 자료형 (String)\n",
    "\n",
    "텍스트 데이터를 자주 다루게되기 때문에 매우 중요한 자료형이다.\n"
   ]
  },
  {
   "cell_type": "markdown",
   "metadata": {},
   "source": [
    "### 잠깐! 문자열과 숫자형의 차이를 조심하세요!\n"
   ]
  },
  {
   "cell_type": "code",
   "execution_count": null,
   "metadata": {},
   "outputs": [],
   "source": [
    "age = 33\n",
    "print(age)"
   ]
  },
  {
   "cell_type": "code",
   "execution_count": null,
   "metadata": {},
   "outputs": [],
   "source": [
    "age = '33'\n",
    "print(age)"
   ]
  },
  {
   "cell_type": "markdown",
   "metadata": {},
   "source": [
    "### 이스케이프 문자\n",
    "\n",
    "파이썬에서는 몇 가지 특수한 문자열 표현들이 있다. 이를 이스케이프 문자라고 한다.\n",
    "\n",
    "- `\\n` : 줄바꿈,\n",
    "- `\\t` : 탭,\n",
    "- `\\\\` : \\ 문자,\n",
    "- `\\'` : ' 문자,\n",
    "- `\\\"` : \" 문자,\n",
    "- `\\r` : 캐리지 리턴,\n",
    "- `\\f` : 폼 피드,\n",
    "- `\\a` : 벨 소리,\n",
    "- `\\b` : 백 스페이스,\n",
    "- `\\000` : 널 문자\n"
   ]
  },
  {
   "cell_type": "markdown",
   "metadata": {},
   "source": [
    "이 중 가장 많이 쓰이는 줄바꿈 문자를 실습해보자.\n"
   ]
  },
  {
   "cell_type": "code",
   "execution_count": null,
   "metadata": {},
   "outputs": [],
   "source": [
    "multiline = \"산산이 부서진 이름이여!\\n허공 중에 헤어진 이름이여!\\n불러도 주인 없는 이름이여!\\n부르다가 내가 죽을 이름이여!\"\n",
    "print(multiline)"
   ]
  },
  {
   "cell_type": "markdown",
   "metadata": {},
   "source": [
    "### 문자열 포맷팅\n",
    "\n",
    "파이썬에서는 문자열을 포맷팅(Formatting)(문자열을 다른 문자로 교체)하는 다음과 같은 3가지 방법이 있다.\n",
    "\n",
    "1. % 연산자\n",
    "   - %s, %d, %f\n",
    "2. f-string\n",
    "   - f\"문자열 {변수}\"\n",
    "3. str.format()\n",
    "   - \"문자열 {}\".format(변수)\n"
   ]
  },
  {
   "cell_type": "markdown",
   "metadata": {},
   "source": [
    "#### 1. % 연산자를 이용하는 방법\n"
   ]
  },
  {
   "cell_type": "code",
   "execution_count": null,
   "metadata": {},
   "outputs": [],
   "source": [
    "season = 16\n",
    "print(\"나는 솔로 %d기\" % season)"
   ]
  },
  {
   "cell_type": "markdown",
   "metadata": {},
   "source": [
    "#### 2. f-string을 이용하는 방법\n"
   ]
  },
  {
   "cell_type": "code",
   "execution_count": null,
   "metadata": {},
   "outputs": [],
   "source": [
    "brand = \"Starbucks\"\n",
    "menu = \"Americano\"\n",
    "f'제가 제일 좋아하는 카페는 {brand}입니다. 그 중에서도 {menu}가 가장 좋아요.'"
   ]
  },
  {
   "cell_type": "markdown",
   "metadata": {},
   "source": [
    "심지어 `{}` 안에 연산도 가능하다.\n"
   ]
  },
  {
   "cell_type": "code",
   "execution_count": 1,
   "metadata": {},
   "outputs": [
    {
     "data": {
      "text/plain": [
       "'제 나이는 윤석열 나이로 33살입니다.'"
      ]
     },
     "execution_count": 1,
     "metadata": {},
     "output_type": "execute_result"
    }
   ],
   "source": [
    "age = 34\n",
    "print(f'제 나이는 윤석열 나이로 {age-1}살입니다.')"
   ]
  },
  {
   "cell_type": "markdown",
   "metadata": {},
   "source": [
    "#### 3. str.format()을 이용하는 방법\n"
   ]
  },
  {
   "cell_type": "code",
   "execution_count": null,
   "metadata": {},
   "outputs": [],
   "source": [
    "mbti = 'INFP'\n",
    "blood = 'B'\n",
    "introduction = '제 MBTI는 {}이고, 혈액형은 {}형입니다.'.format(mbti, blood)\n",
    "print(introduction)"
   ]
  },
  {
   "cell_type": "markdown",
   "metadata": {},
   "source": [
    "### 따옴표\n",
    "\n",
    "Python에서 따옴표는 문자열을 사용할 때 많이 쓰이지만, 사용 방법을 주의해야 한다. 작은 따옴표, 큰 따옴표, 세작은따옴표, 세 큰 따옴표 모두 사용할 수 있다.\n"
   ]
  },
  {
   "cell_type": "markdown",
   "metadata": {},
   "source": [
    "#### 1. 작은 따옴표\n"
   ]
  },
  {
   "cell_type": "code",
   "execution_count": 4,
   "metadata": {},
   "outputs": [
    {
     "name": "stdout",
     "output_type": "stream",
     "text": [
      "안녕하세요?\n"
     ]
    }
   ],
   "source": [
    "greeting = '안녕하세요?'\n",
    "print(greeting)"
   ]
  },
  {
   "cell_type": "markdown",
   "metadata": {},
   "source": [
    "#### 2. 큰 따옴표\n"
   ]
  },
  {
   "cell_type": "code",
   "execution_count": 15,
   "metadata": {},
   "outputs": [
    {
     "name": "stdout",
     "output_type": "stream",
     "text": [
      "네, 안녕하세요\n"
     ]
    }
   ],
   "source": [
    "answer = \"네, 안녕하세요\"\n",
    "print(answer)"
   ]
  },
  {
   "cell_type": "markdown",
   "metadata": {},
   "source": [
    "#### 3. 작은 따옴표 안에 큰 따옴표 포함하기\n"
   ]
  },
  {
   "cell_type": "code",
   "execution_count": 6,
   "metadata": {},
   "outputs": [
    {
     "name": "stdout",
     "output_type": "stream",
     "text": [
      "미셸 투르니에: \"일은 인간의 본성에 맞지 않는다. 하면 피곤해지는 게 그 증거다.\"\n"
     ]
    }
   ],
   "source": [
    "quote = '미셸 투르니에: \"일은 인간의 본성에 맞지 않는다. 하면 피곤해지는 게 그 증거다.\"'\n",
    "print(quote)"
   ]
  },
  {
   "cell_type": "markdown",
   "metadata": {},
   "source": [
    "#### 4. 큰 따옴표 안에 작은 따옴표 포함하기\n"
   ]
  },
  {
   "cell_type": "code",
   "execution_count": 7,
   "metadata": {},
   "outputs": [
    {
     "name": "stdout",
     "output_type": "stream",
     "text": [
      "What's your ETA? What's your ETA?\n"
     ]
    }
   ],
   "source": [
    "lyric = \"What's your ETA? What's your ETA?\"\n",
    "print(lyric)"
   ]
  },
  {
   "cell_type": "markdown",
   "metadata": {},
   "source": [
    "#### 5. 세 작은 따옴표 또는 세 큰 따옴표로 여러 줄의 문자열 정의하기\n"
   ]
  },
  {
   "cell_type": "code",
   "execution_count": 8,
   "metadata": {},
   "outputs": [
    {
     "name": "stdout",
     "output_type": "stream",
     "text": [
      "저 폰은 바다에 버려요. \n",
      "깊은 데 빠뜨려서, 아무도 못 찾게 해요.\n",
      "그 시절은 지나갔고\n",
      "이제 거기 남은 건\n",
      "아무것도 없다.\n",
      "\n"
     ]
    }
   ],
   "source": [
    "multiline = '''저 폰은 바다에 버려요. \n",
    "깊은 데 빠뜨려서, 아무도 못 찾게 해요.'''\n",
    "print(multiline)\n",
    "\n",
    "multiline2 = \"\"\"그 시절은 지나갔고\n",
    "이제 거기 남은 건\n",
    "아무것도 없다.\n",
    "\"\"\"\n",
    "print(multiline2)"
   ]
  },
  {
   "cell_type": "markdown",
   "metadata": {},
   "source": [
    "### 문자열 연산하기\n",
    "\n",
    "문자열 연산에는 다음과 같은 방법들이 있다.\n",
    "\n",
    "1. 문자열 더하기\n",
    "2. 문자열 곱하기\n",
    "3. 문자열 길이 구하기\n",
    "4. 문자열 인덱싱\n",
    "5. 문자열 슬라이싱\n"
   ]
  },
  {
   "cell_type": "markdown",
   "metadata": {},
   "source": [
    "#### 1. 문자열 더하기\n"
   ]
  },
  {
   "cell_type": "code",
   "execution_count": 1,
   "metadata": {},
   "outputs": [],
   "source": [
    "first = \"국경의 긴 터널을 빠져나오자, \"\n",
    "second = \"설국이었다.\""
   ]
  },
  {
   "cell_type": "code",
   "execution_count": 2,
   "metadata": {},
   "outputs": [
    {
     "name": "stdout",
     "output_type": "stream",
     "text": [
      "국경의 긴 터널을 빠져나오자, 설국이었다.\n"
     ]
    }
   ],
   "source": [
    "sentence = first + second\n",
    "print(sentence)"
   ]
  },
  {
   "cell_type": "markdown",
   "metadata": {},
   "source": [
    "#### 2. 문자열 곱하기\n"
   ]
  },
  {
   "cell_type": "code",
   "execution_count": 3,
   "metadata": {},
   "outputs": [
    {
     "name": "stdout",
     "output_type": "stream",
     "text": [
      "아리랑아리랑아리랑\n"
     ]
    }
   ],
   "source": [
    "arirang = \"아리랑\"\n",
    "print(arirang*3)"
   ]
  },
  {
   "cell_type": "markdown",
   "metadata": {},
   "source": [
    "#### 3. 문자열 길이 구하기\n"
   ]
  },
  {
   "cell_type": "code",
   "execution_count": 4,
   "metadata": {},
   "outputs": [
    {
     "data": {
      "text/plain": [
       "3"
      ]
     },
     "execution_count": 4,
     "metadata": {},
     "output_type": "execute_result"
    }
   ],
   "source": [
    "len(arirang)"
   ]
  },
  {
   "cell_type": "markdown",
   "metadata": {},
   "source": [
    "![python-list-index](https://qph.fs.quoracdn.net/main-qimg-a380b1bc159589df5e0b9842e5b56b6d)\n",
    "\n",
    "https://www.quora.com/What-is-negative-index-in-Python\n"
   ]
  },
  {
   "cell_type": "markdown",
   "metadata": {},
   "source": [
    "#### 4. 문자열 인덱싱 (위치)\n"
   ]
  },
  {
   "cell_type": "code",
   "execution_count": 5,
   "metadata": {},
   "outputs": [
    {
     "data": {
      "text/plain": [
       "'M'"
      ]
     },
     "execution_count": 5,
     "metadata": {},
     "output_type": "execute_result"
    }
   ],
   "source": [
    "# 파이썬은 0부터 시작한다.\n",
    "string = 'Monty Python'\n",
    "string[0]"
   ]
  },
  {
   "cell_type": "code",
   "execution_count": null,
   "metadata": {},
   "outputs": [],
   "source": [
    "# 음수를 넣는다면?\n",
    "string[-1]"
   ]
  },
  {
   "cell_type": "markdown",
   "metadata": {},
   "source": [
    "#### 5. 문자열 슬라이싱(slicing)\n"
   ]
  },
  {
   "cell_type": "code",
   "execution_count": null,
   "metadata": {},
   "outputs": [],
   "source": [
    "string[0:4]"
   ]
  },
  {
   "cell_type": "code",
   "execution_count": null,
   "metadata": {},
   "outputs": [],
   "source": [
    "string[:4]"
   ]
  },
  {
   "cell_type": "code",
   "execution_count": null,
   "metadata": {},
   "outputs": [],
   "source": [
    "string[8:]"
   ]
  },
  {
   "cell_type": "markdown",
   "metadata": {},
   "source": [
    "### 문자열 관련 메소드\n",
    "\n",
    "문자열 연산을 더욱 쉽게 하기 위한 메소드들이 있다.\n",
    "\n",
    "1. `count()`\n",
    "2. `join()`\n",
    "3. `upper()`\n",
    "4. `lower()`\n",
    "5. `strip()`, `lstrip()`, `rstrip()`\n",
    "6. `replace()`\n",
    "7. `split()`\n"
   ]
  },
  {
   "cell_type": "markdown",
   "metadata": {},
   "source": [
    "#### 1. `count()`\n"
   ]
  },
  {
   "cell_type": "code",
   "execution_count": 6,
   "metadata": {},
   "outputs": [],
   "source": [
    "ditto = '''Hoo-ooh-ooh-ooh\n",
    "Hoo-ooh-ooh-ooh\n",
    "Stay in the middle\n",
    "Like you a little\n",
    "Don't want no riddle\n",
    "말해줘 say it back, oh, say it ditto\n",
    "아침은 너무 멀어 so say it ditto\n",
    "훌쩍 커버렸어\n",
    "함께한 기억처럼\n",
    "널 보는 내 마음은\n",
    "어느새 여름 지나 가을\n",
    "기다렸지 all this time\n",
    "Do you want somebody\n",
    "Like I want somebody?\n",
    "날 보고 웃었지만\n",
    "Do you think about me now? yeah\n",
    "All the time, yeah, all the time\n",
    "I got no time to lose\n",
    "내 길었던 하루, 난 보고 싶어\n",
    "Ra-ta-ta-ta 울린 심장 (Ra-ta-ta-ta)\n",
    "I got nothing to lose\n",
    "널 좋아한다고 ooh-whoa, ooh-whoa, ooh-whoa\n",
    "Ra-ta-ta-ta 울린 심장 (Ra-ta-ta-ta)\n",
    "But I don't want to\n",
    "Stay in the middle\n",
    "Like you a little\n",
    "Don't want no riddle\n",
    "말해줘 say it back, oh, say it ditto\n",
    "아침은 너무 멀어 so say it ditto\n",
    "I don't want to walk in this 미로\n",
    "다 아는 건 아니어도\n",
    "바라던 대로 말해줘 say it back\n",
    "Oh, say it ditto\n",
    "I want you so, want you, so say it ditto\n",
    "Not just anybody\n",
    "너를 상상했지\n",
    "항상 닿아있던\n",
    "처음 느낌 그대로 난\n",
    "기다렸지 all this time\n",
    "I got nothing to lose\n",
    "널 좋아한다고 ooh-whoa, ooh-whoa, ooh-whoa\n",
    "Ra-ta-ta-ta 울린 심장 (Ra-ta-ta-ta)\n",
    "But I don't want to\n",
    "Stay in the middle\n",
    "Like you a little\n",
    "Don't want no riddle\n",
    "말해줘 say it back, oh, say it ditto\n",
    "아침은 너무 멀어 so say it ditto\n",
    "I don't want to walk in this 미로\n",
    "다 아는 건 아니어도\n",
    "바라던 대로 말해줘 say it back\n",
    "Oh, say it ditto\n",
    "I want you so, want you, so say it ditto\n",
    "Hoo-ooh-ooh-ooh\n",
    "Hoo-ooh-ooh-ooh'''"
   ]
  },
  {
   "cell_type": "code",
   "execution_count": 7,
   "metadata": {},
   "outputs": [
    {
     "data": {
      "text/plain": [
       "10"
      ]
     },
     "execution_count": 7,
     "metadata": {},
     "output_type": "execute_result"
    }
   ],
   "source": [
    "ditto.count('ditto')"
   ]
  },
  {
   "cell_type": "markdown",
   "metadata": {},
   "source": [
    "#### 2. `join()`\n"
   ]
  },
  {
   "cell_type": "code",
   "execution_count": 9,
   "metadata": {},
   "outputs": [
    {
     "data": {
      "text/plain": [
       "'묵,찌,빠'"
      ]
     },
     "execution_count": 9,
     "metadata": {},
     "output_type": "execute_result"
    }
   ],
   "source": [
    "\",\".join('묵찌빠')"
   ]
  },
  {
   "cell_type": "markdown",
   "metadata": {},
   "source": [
    "#### 3. `upper()`\n"
   ]
  },
  {
   "cell_type": "code",
   "execution_count": 10,
   "metadata": {},
   "outputs": [
    {
     "data": {
      "text/plain": [
       "'GOAT'"
      ]
     },
     "execution_count": 10,
     "metadata": {},
     "output_type": "execute_result"
    }
   ],
   "source": [
    "s = 'goat'\n",
    "s.upper()"
   ]
  },
  {
   "cell_type": "markdown",
   "metadata": {},
   "source": [
    "#### 4. `lower()`\n"
   ]
  },
  {
   "cell_type": "code",
   "execution_count": null,
   "metadata": {},
   "outputs": [],
   "source": [
    "s.upper().lower()"
   ]
  },
  {
   "cell_type": "markdown",
   "metadata": {},
   "source": [
    "#### 5. `strip()`, `lstrip()`, `rstrip()`\n"
   ]
  },
  {
   "cell_type": "code",
   "execution_count": null,
   "metadata": {},
   "outputs": [],
   "source": [
    "poem = ' 사랑을 잃고 나는 쓰네 '\n",
    "print(poem.strip())\n",
    "history = '...태조가 백관의 추대를 받아 수창궁에서 왕위에 오르다...'\n",
    "print(history.strip(\".\"))"
   ]
  },
  {
   "cell_type": "markdown",
   "metadata": {},
   "source": [
    "#### 6. `replace()`\n"
   ]
  },
  {
   "cell_type": "code",
   "execution_count": 12,
   "metadata": {},
   "outputs": [
    {
     "name": "stdout",
     "output_type": "stream",
     "text": [
      "판다세마리가 한집에있어\n",
      "아빠판다 엄마판다 애기판다\n",
      "아빠판다은 뚱뚱해\n",
      "엄마판다은 날씬해\n",
      "애기판다은 너무귀여워\n",
      "으쓱으쓱 잘한다\n",
      "판다세마리가 한집에있어\n",
      "아빠판다 엄마판다 애기판다\n",
      "아빠판다은 뚱뚱해\n",
      "엄마판다은 날씬해\n",
      "애기판다은 너무귀여워\n",
      "으쓱으쓱 잘한다\n"
     ]
    }
   ],
   "source": [
    "song = '''곰 세마리가 한집에 있어\n",
    "아빠곰 엄마곰 애기곰\n",
    "아빠곰은 뚱뚱해\n",
    "엄마곰은 날씬해\n",
    "애기곰은 너무귀여워\n",
    "으쓱으쓱 잘한다\n",
    "곰세마리가 한집에있어\n",
    "아빠곰 엄마곰 애기곰\n",
    "아빠곰은 뚱뚱해\n",
    "엄마곰은 날씬해\n",
    "애기곰은 너무귀여워\n",
    "으쓱으쓱 잘한다'''\n",
    "print(song.replace(\"곰\", \"판다\"))"
   ]
  },
  {
   "cell_type": "markdown",
   "metadata": {},
   "source": [
    "#### 7. `split()`\n"
   ]
  },
  {
   "cell_type": "code",
   "execution_count": 13,
   "metadata": {},
   "outputs": [
    {
     "data": {
      "text/plain": [
       "['너', '나']"
      ]
     },
     "execution_count": 13,
     "metadata": {},
     "output_type": "execute_result"
    }
   ],
   "source": [
    "us = '너 나'\n",
    "us.split()"
   ]
  }
 ],
 "metadata": {
  "kernelspec": {
   "display_name": "Python 3",
   "language": "python",
   "name": "python3"
  },
  "language_info": {
   "codemirror_mode": {
    "name": "ipython",
    "version": 3
   },
   "file_extension": ".py",
   "mimetype": "text/x-python",
   "name": "python",
   "nbconvert_exporter": "python",
   "pygments_lexer": "ipython3",
   "version": "3.11.4"
  },
  "orig_nbformat": 4
 },
 "nbformat": 4,
 "nbformat_minor": 2
}
