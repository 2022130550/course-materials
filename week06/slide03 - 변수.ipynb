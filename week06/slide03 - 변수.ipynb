{
 "cells": [
  {
   "cell_type": "markdown",
   "metadata": {},
   "source": [
    "## 변수\n",
    "\n",
    "### 변수란 무엇인가?\n",
    "\n",
    "- 파이썬에서 변수는 “객체”의 “별칭”\n",
    "- 객체는 메모리에 저장되어 있음. 변수는 이 메모리 공간에 붙어 있는 라벨이라고 생각하면 됨.\n",
    "- 변수가 사실 저장하고 있는 것은 객체의 “주소값”\n"
   ]
  },
  {
   "cell_type": "code",
   "execution_count": null,
   "metadata": {},
   "outputs": [],
   "source": [
    "a = 3\n",
    "print(type(a))"
   ]
  },
  {
   "cell_type": "markdown",
   "metadata": {},
   "source": [
    "![memory](https://wikidocs.net/images/page/7909/%EB%B3%80%EC%88%98_-_1.jpg)\n"
   ]
  },
  {
   "cell_type": "markdown",
   "metadata": {},
   "source": [
    "### 그렇다면, 숫자, 문자들도 다 변수인가?\n",
    "\n",
    "- 아니다. integer, string 등 자주 쓰이는 값들은 “Literal”이라고 부르며, Python이 실행되면서 따로 메모리 공간에 미리 할당해 두고 사용한다.\n",
    "- 실제로 그 변수에 저장되어 있는 것은 그 객체의 주소.\n",
    "- 심지어 print도 객체다.\n",
    "- Python에서 객체가 사용할 수 있는 메소드를 보려면 `dir()` 함수를 사용한다.\n"
   ]
  },
  {
   "cell_type": "code",
   "execution_count": null,
   "metadata": {},
   "outputs": [],
   "source": [
    "dir(print)"
   ]
  },
  {
   "cell_type": "code",
   "execution_count": null,
   "metadata": {},
   "outputs": [],
   "source": [
    "dir(3)"
   ]
  },
  {
   "cell_type": "markdown",
   "metadata": {},
   "source": [
    "### 잠깐! 함수와 메소드의 차이를 아세요?\n",
    "\n",
    "- 함수는 객체\n",
    "- 메소드는 객체의 동작\n"
   ]
  },
  {
   "cell_type": "markdown",
   "metadata": {},
   "source": [
    "### `id()`함수\n",
    "\n",
    "- 변수의 메모리 주소가 궁금하다면 `id()`함수로 볼 수 있다.\n"
   ]
  },
  {
   "cell_type": "code",
   "execution_count": null,
   "metadata": {},
   "outputs": [],
   "source": [
    "a = 3\n",
    "b = 3\n",
    "print(id(a)) # 140637519905072\n",
    "print(id(b)) # 140637519905072"
   ]
  },
  {
   "cell_type": "markdown",
   "metadata": {},
   "source": [
    "- 다른 이름으로 변수를 할당했어도 주소는 동일한 것을 알 수 있다.\n",
    "- 리스트도 마찬가지다.\n"
   ]
  },
  {
   "cell_type": "code",
   "execution_count": null,
   "metadata": {},
   "outputs": [],
   "source": [
    "numbers = [1,2,3,4,5,6,7,8,9,1]\n",
    "print(id(numbers[0]))\n",
    "print(id(numbers[9]))"
   ]
  },
  {
   "cell_type": "code",
   "execution_count": null,
   "metadata": {},
   "outputs": [],
   "source": [
    "for n in numbers:\n",
    "  print(id(n), id(n)- id(numbers[0]))"
   ]
  },
  {
   "cell_type": "markdown",
   "metadata": {},
   "source": [
    "#### 참고: Python의 내장함수들\n",
    "\n",
    "1. `help()`\n",
    "   객체의 사용법이 궁금하면 `help()`함수를 사용하거나 블록 지정 또는 마우스 오버하여 나오는 설명을 읽어 본다.\n",
    "2. `print()`\n",
    "   값을 출력할 때 사용하는 기본적인 함수이다. 문자열, 숫자 등 다양한 타입의 데이터를 화면에 출력할 수 있다.\n",
    "\n",
    "3. `len()`\n",
    "   리스트, 문자열, 튜플 등의 길이를 반환한다. 데이터 구조의 요소의 수를 알고 싶을 때 유용하게 사용된다.\n",
    "\n",
    "4. `type()`\n",
    "   변수나 값의 데이터 타입을 확인하기 위해 사용한다.\n",
    "\n",
    "5. `sorted()`\n",
    "   리스트나 튜플과 같은 반복 가능한 객체를 정렬하여 반환한다.\n",
    "\n",
    "6. `input()`\n",
    "   사용자로부터 입력을 받기 위한 함수이다. 기본적으로 문자열 형태로 값을 반환한다.\n",
    "7. `int()`, `float()`, `str()`\n",
    "   이들 함수는 각각 정수, 실수, 문자열로 타입을 변환하는 데 사용된다.\n",
    "\n",
    "8. `list()`, `tuple()`, `set()`, `dict()`\n",
    "   이들 함수는 각각 리스트, 튜플, 집합, 딕셔너리로 데이터 타입을 변환하는 데 사용된다.\n",
    "\n",
    "9. `max()`, `min()`\n",
    "   숫자나 문자열로 이루어진 리스트, 튜플 등에서 최대값 또는 최소값을 반환한다.\n",
    "\n",
    "10. `range()`\n",
    "    연속된 숫자의 시퀀스를 생성한다. 주로 for 루프에서 반복을 위해 사용된다.\n",
    "\n",
    "11. `round()`\n",
    "    숫자를 주어진 소수점 아래로 반올림한다.\n",
    "\n",
    "12. `sum()`\n",
    "    숫자 리스트나 튜플의 모든 항목의 합을 반환한다.\n",
    "\n",
    "13. `zip()`\n",
    "    두 개 이상의 리스트나 튜플을 합쳐서 새로운 튜플의 시퀀스를 생성한다.\n",
    "\n",
    "14. `any()`, `all()`\n",
    "    주어진 반복 가능한 객체의 요소 중 하나라도 참이면 `any()`는 `True`를 반환하고, 모든 요소가 참이면 `all()`은 `True`를 반환한다.\n",
    "\n",
    "15. `enumerate()`\n",
    "    리스트, 튜플 등의 반복 가능한 객체의 인덱스와 값을 함께 반환한다. 주로 for 루프에서 인덱스와 함께 반복을 위해 사용된다.\n",
    "\n",
    "16. `filter()`\n",
    "    주어진 함수를 사용하여 반복 가능한 객체의 요소를 필터링한다. 결과는 필터링된 요소들의 새로운 리스트이다.\n",
    "\n",
    "17. `map()`\n",
    "    주어진 함수를 반복 가능한 객체의 모든 요소에 적용한다. 결과는 해당 함수에 의해 변환된 요소들의 새로운 리스트이다.\n",
    "\n",
    "18. `lambda`\n",
    "    작은 익명 함수를 생성한다. `filter()`, `map()` 및 `sorted()`와 같은 함수와 함께 사용되는 경우가 많다.\n",
    "\n",
    "19. `open()`\n",
    "    파일을 열거나 생성할 때 사용한다. 다양한 모드(예: 읽기, 쓰기)로 파일을 열 수 있다.\n",
    "\n",
    "20. `reversed()`\n",
    "    리스트나 튜플과 같은 시퀀스를 거꾸로 반환한다.\n",
    "\n",
    "21. `slice()`\n",
    "    시퀀스를 슬라이스하여 특정 부분만 선택한다.\n",
    "\n",
    "22. `chr()`, `ord()`\n",
    "    `chr()`는 주어진 숫자에 해당하는 문자를 반환하고, `ord()`는 주어진 문자에 해당하는 숫자를 반환한다.\n",
    "\n",
    "23. `bin()`, `hex()`, `oct()`\n",
    "    주어진 숫자를 각각 이진수, 16진수, 8진수 문자열로 변환한다.\n",
    "\n",
    "24. `abs()`\n",
    "    숫자의 절대값을 반환한다.\n",
    "\n",
    "25. `globals()`, `locals()`\n",
    "    현재의 전역 변수와 지역 변수를 딕셔너리 형태로 반환한다.\n",
    "\n",
    "이 외에도 많다.\n"
   ]
  },
  {
   "cell_type": "markdown",
   "metadata": {},
   "source": [
    "이 외에도 Python의 내장함수가 궁금하다면, 아래 코드를 실행해 보자.\n"
   ]
  },
  {
   "cell_type": "code",
   "execution_count": 2,
   "metadata": {},
   "outputs": [
    {
     "name": "stdout",
     "output_type": "stream",
     "text": [
      "abs\n",
      "aiter\n",
      "all\n",
      "anext\n",
      "any\n",
      "ascii\n",
      "bin\n",
      "bool\n",
      "breakpoint\n",
      "bytearray\n",
      "bytes\n",
      "callable\n",
      "chr\n",
      "classmethod\n",
      "compile\n",
      "complex\n",
      "copyright\n",
      "credits\n",
      "delattr\n",
      "dict\n",
      "dir\n",
      "display\n",
      "divmod\n",
      "enumerate\n",
      "eval\n",
      "exec\n",
      "execfile\n",
      "filter\n",
      "float\n",
      "format\n",
      "frozenset\n",
      "get_ipython\n",
      "getattr\n",
      "globals\n",
      "hasattr\n",
      "hash\n",
      "help\n",
      "hex\n",
      "id\n",
      "input\n",
      "int\n",
      "isinstance\n",
      "issubclass\n",
      "iter\n",
      "len\n",
      "license\n",
      "list\n",
      "locals\n",
      "map\n",
      "max\n",
      "memoryview\n",
      "min\n",
      "next\n",
      "object\n",
      "oct\n",
      "open\n",
      "ord\n",
      "pow\n",
      "print\n",
      "property\n",
      "range\n",
      "repr\n",
      "reversed\n",
      "round\n",
      "runfile\n",
      "set\n",
      "setattr\n",
      "slice\n",
      "sorted\n",
      "staticmethod\n",
      "str\n",
      "sum\n",
      "super\n",
      "tuple\n",
      "type\n",
      "vars\n",
      "zip\n"
     ]
    }
   ],
   "source": [
    "import builtins\n",
    "builtin_functions = [item for item in dir(builtins) if callable(getattr(builtins, item))]\n",
    "builtin_functions = [item for item in builtin_functions if not item.startswith('__')]\n",
    "builtin_functions = [item for item in builtin_functions if item[0].islower()]\n",
    "for func in sorted(builtin_functions):\n",
    "    print(func)"
   ]
  }
 ],
 "metadata": {
  "kernelspec": {
   "display_name": "base",
   "language": "python",
   "name": "python3"
  },
  "language_info": {
   "codemirror_mode": {
    "name": "ipython",
    "version": 3
   },
   "file_extension": ".py",
   "mimetype": "text/x-python",
   "name": "python",
   "nbconvert_exporter": "python",
   "pygments_lexer": "ipython3",
   "version": "3.11.4"
  },
  "orig_nbformat": 4
 },
 "nbformat": 4,
 "nbformat_minor": 2
}
