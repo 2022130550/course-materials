{
 "cells": [
  {
   "cell_type": "markdown",
   "metadata": {},
   "source": [
    "## Jupyter Notebook Introduction\n",
    "\n",
    "<img src=\"https://jupyter.org/assets/homepage/main-logo.svg\" width=\"300px\" height=\"300px\" title=\"JupyterHub\"/>\n",
    "\n",
    "### 역사\n",
    "\n",
    "Jupyter Notebook은 콜롬비아 출신 입자 물리학자 페르난도 페레즈(물리학자)가 미국 콜로다도 박사과정중에 IPython 프로젝트로 시작하여 만들어 졌다. 시간이 지나면서, Jupyter Notebook은 Julia, Python, R(셋을 묶어 Jupyter로 하였다.) 등 다양한 프로그래밍 언어를 지원하는 플랫폼으로 발전하게 되었고, 현재 데이터 과학, 머신 러닝, 통계, 시각화 등에 가장 인기 있는 프로그래밍 프로그램 중 하나이다.\n",
    "\n",
    "<b>Fernando Pérez</b>\n",
    "\n",
    "<img src=\"resources/Fernando-perez.png\" width=\"300px\" height=\"300px\" title=\"JupyterHub\"/>\n",
    "\n",
    "### Notebook\n",
    "\n",
    "노트북은 코드와 텍스트, 그래프, 수식 등을 하나의 문서로 통합하여 제공한다. 노트북은 연구 결과를 공유하는데 아주 유리하다. 각 셀은 코드나 마크다운을 포함할 수 있으며, 사용자가 원하는 순서로 실행이 가능하다.\n",
    "\n",
    "### REPL(Read-Evaluate-Print-Loop)\n",
    "\n",
    "REPL은 프로그램과 개발자가 마치 서로 질문과 답변을 주고 받듯이 동작하는 프로그래밍 환경을 의미한다. 윈도우즈(Windows)에서의 Command 프롬프트나 맥(Mac)과 리눅스(Linux)의 Terminal과 유사하게, 사용자는 명령어를 입력하면 프로그램이 해당 명령어를 확인(Evaluate)하고 결과를 출력(Print)한다. 이 과정을 사용자가 다시 읽고(Read), 반복(Loop)하게 된다. Jupyter Notebook의 코드 셀은 이 REPL 개념을 일부 구현하고 있어, 각 셀마다 코드를 실행하고 결과를 즉시 확인할 수 있다.\n"
   ]
  },
  {
   "cell_type": "markdown",
   "metadata": {},
   "source": [
    "## 용어\n",
    "\n",
    "### Code\n",
    "\n",
    "코드 셀은 주피터 노트북에서 프로그래밍 코드를 작성하고 실행하는 영역이다. 코드 셀을 실행하면 그 아래에 결과가 출력된다. 이를 통해 데이터 분석, 시각화, 계산 작업 등을 직접 확인할 수 있다.\n"
   ]
  },
  {
   "cell_type": "code",
   "execution_count": null,
   "metadata": {},
   "outputs": [],
   "source": [
    "print(\"이것이 Code 셀이다. 이 셀을 클릭하고 Shift + Enter 를 눌러라.\")"
   ]
  },
  {
   "cell_type": "markdown",
   "metadata": {},
   "source": [
    "### Markdown\n",
    "\n",
    "마크다운 셀은 텍스트, 이미지, 수식 등을 포맷팅할 수 있는 영역이다. 이 셀은 코드가 아니므로 실행되지 않는다. 대신, 마크다운 문법을 사용해 설명, 제목, 목록 등을 추가하여 노트북의 내용을 구성하고 이해하기 쉽게 만들 수 있다.\n"
   ]
  },
  {
   "cell_type": "markdown",
   "metadata": {},
   "source": [
    "이 셀은 Markdown 셀이다. 이 셀을 <b>바로 아래</b>에 있는 셀을 더블 클릭하여 아래와 같이 입력해보자. (복붙하지 말자.)\n",
    "\n",
    "```\n",
    "# Heading 1\n",
    "## Heading 2\n",
    "### Heading 3\n",
    " - List 1\n",
    " - List 2\n",
    "\n",
    " > Blockquote\n",
    "\n",
    "| T | A | B | L | E |\n",
    "|-|-|-|-|-|\n",
    "| 1 | 2 | 3 | 4 | 5 |\n",
    "\n",
    "```\n"
   ]
  },
  {
   "cell_type": "markdown",
   "metadata": {},
   "source": [
    "### Kernel\n",
    "\n",
    "커널은 주피터 노트북에서 코드가 실행되는 '엔진'이다. 각 노트북은 하나의 커널을 가지며, 이 커널이 해당 프로그래밍 언어에 따라 코드를 실행한다. 커널은 변수, 함수, 객체 등 코드 실행에 필요한 모든 정보를 메모리에 유지한다. 커널을 재시작하면 이 정보는 초기화된다.\n",
    "메뉴에서 Kernel을 찾아 재시작 해보자.\n"
   ]
  },
  {
   "cell_type": "markdown",
   "metadata": {},
   "source": [
    "## 노트북의 모드\n",
    "\n",
    "노트북에는 두 가지 모드가 있다:\n",
    "\n",
    "- **명령 모드**: 노트북을 탐색하는 데 사용한다; 선택된 셀의 색깔은 파란색이다; `Esc` 키를 눌러 이 모드로 들어간다.\n",
    "  ![dashboard](images/jupyter-command.png)\n",
    "\n",
    "- **편집 모드**: 셀에 내용을 입력하는 데 사용한다; 선택된 셀의 색깔은 초록색이다; `Enter` 키를 눌러 이 모드로 들어간다.\n",
    "  ![dashboard](images/jupyter-edit.png)\n",
    "\n",
    "### 셀을 실행하는 방법\n",
    "\n",
    "현재 선택된 셀의 코드나 마크다운을 실행하고, 다음 셀로 커서가 이동한다.: `Shift` + `Enter`\n",
    "현재 선택된 셀의 코드나 마크다운을 실행한다. 커서는 현재 셀에 머물러 있다.: `Cmd/Ctrl` + `Enter`\n",
    "\n",
    "### 도움말 받기\n",
    "\n",
    "함수 검색 창 열기 (Spotlight처럼): `Cmd/Ctrl` + `Shift` + `P`\n",
    "\n",
    "함수에 대한 도움말을 받는다: 커서가 함수 안에 있을 때 `Shift` + `Tab`을 누른다.\n"
   ]
  },
  {
   "cell_type": "markdown",
   "metadata": {},
   "source": [
    "## 키보드 단축키\n",
    "\n",
    "[DataQuest의 블로그](https://www.dataquest.io/blog/jupyter-notebook-tips-tricks-shortcuts/)\n",
    "\n",
    "### 명령 모드에서\n",
    "\n",
    "- `A`: 현재 셀 위에 새 셀을 삽입한다\n",
    "- `B`: 현재 셀 아래에 새 셀을 삽입한다\n",
    "- `M`: 현재 셀을 마크다운으로 변경한다\n",
    "- `Y`: 코드로 다시 변경한다\n",
    "- `D` `D` (키를 두 번 누른다): 현재 셀을 삭제한다\n",
    "\n",
    "### 편집 모드에서\n",
    "\n",
    "- `Cmd/Ctrl` + `Shift` + `-`: 커서가 있는 위치에서 현재 셀을 두 개로 분할한다\n",
    "- `Esc` + `F`: 코드 내에서 찾고 바꾸기를 수행한다 (출력 결과는 제외)\n",
    "- `Esc` + `O`: 셀 출력을 토글한다\n",
    "- `Shift` + `J` 또는 `Shift` + `Down`: 아래 방향으로 다음 셀을 선택한다\n",
    "- `Shift` + `K` 또는 `Shift` + `Up`: 위 방향으로 셀을 선택한다\n",
    "- 셀을 선택한 후, 일괄적으로 삭제/복사/잘라내기/붙여넣기/실행할 수 있다. 노트북의 일부분을 이동할 필요가 있을 때 유용하다\n",
    "- `Shift` + `M`: 여러 셀을 병합한다\n"
   ]
  },
  {
   "cell_type": "markdown",
   "metadata": {},
   "source": [
    "## 메뉴바 소개\n",
    "\n",
    "### File\n",
    "\n",
    "- 'New Notebook': 새 노트북을 생성한다\n",
    "- 'Open...': 기존 노트북을 열거나 다른 파일을 불러온다\n",
    "- 'Save': 현재 노트북을 저장한다\n",
    "- 'Save As...': 다른 이름으로 현재 노트북을 저장한다\n",
    "\n",
    "### Edit\n",
    "\n",
    "- 'Cut Cells': 선택한 셀을 잘라낸다\n",
    "- 'Copy Cells': 선택한 셀을 복사한다\n",
    "- 'Paste Cells': 복사한 셀을 붙여넣는다\n",
    "- 'Undo': 이전 동작을 취소한다\n",
    "\n",
    "### View\n",
    "\n",
    "- 'Toggle Header': 헤더를 보이게 하거나 숨긴다\n",
    "- 'Toggle Toolbar': 툴바를 보이게 하거나 숨긴다\n",
    "- 'Cell Toolbar': 셀에 대한 추가 옵션을 보여준다\n",
    "\n",
    "### Run\n",
    "\n",
    "- 'Run Cells': 선택한 셀을 실행한다\n",
    "- 'Run All': 모든 셀을 순차적으로 실행한다\n",
    "- 'Run All Above': 현재 선택한 셀 위의 모든 셀을 실행한다\n",
    "\n",
    "### Kernel\n",
    "\n",
    "- 'Restart': 커널을 재시작한다\n",
    "- 'Interrupt': 현재 실행 중인 코드를 중단한다\n",
    "- 'Reconnect': 커널과 다시 연결한다\n",
    "\n",
    "### Tabs\n",
    "\n",
    "- 'File Browser': 파일 브라우저를 열거나 닫는다\n",
    "- 'Running Terminals and Kernels': 실행 중인 터미널과 커널을 보여준다\n",
    "\n",
    "### Settings\n",
    "\n",
    "- 'JupyterLab Theme': JupyterLab의 테마를 변경한다\n",
    "- 'Text Editor Key Map': 텍스트 에디터의 키 맵을 설정한다\n",
    "\n",
    "### Help\n",
    "\n",
    "- 'JupyterLab Reference': JupyterLab에 대한 참고 문서를 열어준다\n",
    "- 'Keyboard Shortcuts': 사용 가능한 키보드 단축키를 보여준다\n"
   ]
  },
  {
   "cell_type": "markdown",
   "metadata": {},
   "source": [
    "## Jupyter Notebook 사용을 추천하는 경우\n",
    "\n",
    "### EDA(Exploratory Data Analysis) 해야 하는 경우\n",
    "\n",
    "Jupyter Notebook은 데이터 분석 과정에서 데이터를 탐색하고 시각화하기 매우 유용하다. 인터랙티브한 환경 덕분에 다양한 라이브러리를 쉽게 활용할 수 있다.\n"
   ]
  },
  {
   "cell_type": "code",
   "execution_count": null,
   "metadata": {},
   "outputs": [],
   "source": [
    "# Pandas와 Matplotlib을 이용한 간단한 EDA 예시\n",
    "import pandas as pd\n",
    "import matplotlib.pyplot as plt\n",
    "\n",
    "# 데이터 불러오기\n",
    "df = pd.read_csv('resources/subway.csv')\n",
    "\n",
    "# 데이터의 처음 5행 출력\n",
    "print(df.head())\n",
    "\n",
    "# 데이터의 기본 통계 출력\n",
    "print(df.describe())\n",
    "\n",
    "# 히스토그램 그리기\n",
    "plt.hist(df['승차총승객수'])\n",
    "plt.show()\n"
   ]
  },
  {
   "cell_type": "markdown",
   "metadata": {},
   "source": [
    "### 문서를 만들고 싶은 경우\n",
    "\n",
    "Jupyter Notebook은 Markdown과 LaTeX 지원을 통해 문서 작성이 용이하다. 코드와 텍스트, 그림을 하나의 문서에 포함시킬 수 있다.\n",
    "\n",
    "- **예시**: 피타고라스의 정리\n",
    "  $$\n",
    "  % \\begin{aligned}\n",
    "  a^2 + b^2 = c^2\n",
    "  % \\end{aligned}\n",
    "  $$\n"
   ]
  },
  {
   "cell_type": "markdown",
   "metadata": {},
   "source": [
    "### 그림을 바로 보고 싶은 경우\n",
    "\n",
    "Jupyter Notebook은 코드를 실행하자마자 그림이나 그래프를 바로 볼 수 있다. 이는 빠른 피드백을 통해 데이터를 더 효과적으로 분석할 수 있게 해준다.\n"
   ]
  },
  {
   "cell_type": "code",
   "execution_count": null,
   "metadata": {},
   "outputs": [],
   "source": [
    "from matplotlib import pyplot as plt\n",
    "import numpy as np\n",
    "\n",
    "# Generate 100 random data points along 3 dimensions\n",
    "x, y, scale = np.random.randn(3, 100)\n",
    "fig, ax = plt.subplots()\n",
    "\n",
    "# Map each onto a scatterplot we'll create with Matplotlib\n",
    "ax.scatter(x=x, y=y, c=scale, s=np.abs(scale)*500)\n",
    "ax.set(title=\"Some random data, created with JupyterLab!\")\n",
    "plt.show()"
   ]
  },
  {
   "cell_type": "markdown",
   "metadata": {},
   "source": [
    "## Jupyter Notebook 사용을 추천하지 않는 경우\n",
    "\n",
    "### 코드를 많이 만들어야 하는 경우\n",
    "\n",
    "Jupyter Notebook은 간단한 스크립트나 분석을 위한 작업에는 적합하지만, 대규모의 소프트웨어 개발 프로젝트에는 권장되지 않는다. Pycharm과 같은 IDE(통합 개발 환경)에서 제공하는 다양한 도구와 기능들은 복잡한 코드 베이스를 관리하기 훨씬 수월하게 해준다.\n",
    "\n",
    "### 여러 사람과 협업해야 하는 경우\n",
    "\n",
    "Jupyter Notebook은 혼자서 사용하기에는 편리하지만, 여러 사람이 동시에 작업하기에는 복잡할 수 있다. Git과의 통합도 다소 어렵고, 코드가 셀 단위로 나뉘어 있어 버전 관리가 까다롭다.\n",
    "\n",
    "### 성능이 중요한 경우\n",
    "\n",
    "Jupyter Notebook은 대규모 데이터셋 처리나 높은 성능을 요구하는 작업에는 최적화되어 있지 않다. 성능이 중요한 상황에서는 전용 소프트웨어나 라이브러리를 사용하는 것이 더 적절하다.\n"
   ]
  },
  {
   "cell_type": "markdown",
   "metadata": {},
   "source": [
    "## 참고 자료\n",
    "\n",
    "- 프로젝트 웹사이트: [Jupyter](http://jupyter.org)\n",
    "- 공식 문서: [Jupyter ReadTheDocs](https://jupyter.readthedocs.io/en/latest/index.html)\n",
    "- 노트북 뷰어: [NBViewer](https://nbviewer.jupyter.org)\n",
    "- Jupyter 단축키와 팁: [DataQuest 블로그](https://www.dataquest.io/blog/jupyter-notebook-tips-tricks-shortcuts/)\n",
    "- Jupyter 튜토리얼: [DataCamp 튜토리얼](https://www.datacamp.com/community/tutorials/tutorial-jupyter-notebook#gs.FvQnWPo)\n",
    "- 흥미로운 노트북 갤러리: [IPython 위키](https://github.com/ipython/ipython/wiki/A-gallery-of-interesting-IPython-Notebooks)\n"
   ]
  }
 ],
 "metadata": {
  "kernelspec": {
   "display_name": "base",
   "language": "python",
   "name": "python3"
  },
  "language_info": {
   "codemirror_mode": {
    "name": "ipython",
    "version": 3
   },
   "file_extension": ".py",
   "mimetype": "text/x-python",
   "name": "python",
   "nbconvert_exporter": "python",
   "pygments_lexer": "ipython3",
   "version": "3.10.12"
  },
  "orig_nbformat": 4
 },
 "nbformat": 4,
 "nbformat_minor": 2
}
