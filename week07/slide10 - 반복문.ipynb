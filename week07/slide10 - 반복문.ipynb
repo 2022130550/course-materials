{
    "cells": [
        {
            "cell_type": "markdown",
            "metadata": {},
            "source": [
                "**본 자료는 [이 페이지](<https://github.com/teacher-jiejie/Lets-get-it-Python-Lecture/blob/main/5%EC%9E%A5_(%EC%99%84%EC%84%B1%EB%B3%B8)_%EB%B0%98%EB%B3%B5%EB%AC%B8.ipynb>)에서 제공한 자료를 이용하였습니다.**\n"
            ]
        },
        {
            "cell_type": "markdown",
            "metadata": {
                "id": "UCdFsLZvKa_C"
            },
            "source": [
                "# 1. 반복문\n",
                "\n",
                "<img src = 'https://github.com/teacher-jiejie/allinone_AI/blob/images/4_%EB%B0%98%EB%B3%B5%EB%AC%B8.png?raw=true' width=500>\n"
            ]
        },
        {
            "cell_type": "code",
            "execution_count": null,
            "metadata": {
                "colab": {
                    "base_uri": "https://localhost:8080/",
                    "height": 101
                },
                "id": "HyLrFLZQt46j",
                "outputId": "f5d0e7b0-f687-41d4-ae49-dfcdef3423c6"
            },
            "outputs": [],
            "source": [
                "for a in [1,2,3,4,5] : \n",
                "    print('안녕하세요!')"
            ]
        },
        {
            "cell_type": "code",
            "execution_count": null,
            "metadata": {
                "colab": {
                    "base_uri": "https://localhost:8080/",
                    "height": 101
                },
                "id": "IQtiqCfit48u",
                "outputId": "177c5812-f5b2-4ff0-ca0d-b7b85f70bff0"
            },
            "outputs": [],
            "source": [
                "for a in [1,2,3,4,5] : \n",
                "    print(a, '안녕하세요!')"
            ]
        },
        {
            "cell_type": "markdown",
            "metadata": {
                "id": "oEfcTfzDFlqS"
            },
            "source": [
                "<img src ='https://github.com/teacher-jiejie/allinone_AI/blob/images/5_%EB%B0%98%EB%B3%B5%EB%AC%B8%20%EB%8F%99%EC%9E%91%EA%B5%AC%EC%A1%B0.png?raw=true' width=500>\n"
            ]
        },
        {
            "cell_type": "markdown",
            "metadata": {
                "id": "wKvrSc-qou3A"
            },
            "source": [
                "# 2. range(시작숫자, 종료숫자)\n"
            ]
        },
        {
            "cell_type": "code",
            "execution_count": null,
            "metadata": {
                "colab": {
                    "base_uri": "https://localhost:8080/"
                },
                "id": "v5KMYQfk0ZVn",
                "outputId": "a5a351bd-735c-4094-e607-00107c9419d7"
            },
            "outputs": [],
            "source": [
                "for a in range(1, 10) : \n",
                "    print(a, '선생님, 다시는 청소를 빼먹지 않겠습니다')"
            ]
        },
        {
            "cell_type": "markdown",
            "metadata": {
                "id": "y1BgbiiV1H11"
            },
            "source": [
                "> range()는 종료숫자-1 까지 포함한다\n"
            ]
        },
        {
            "cell_type": "code",
            "execution_count": null,
            "metadata": {
                "colab": {
                    "base_uri": "https://localhost:8080/"
                },
                "id": "tGmtMY-Z0k8p",
                "outputId": "0b72e82b-79b7-4f06-be80-557d02e63f84"
            },
            "outputs": [],
            "source": [
                "for a in range(1, 11) : \n",
                "    print(a, '선생님, 다시는 청소를 빼먹지 않겠습니다')"
            ]
        },
        {
            "cell_type": "markdown",
            "metadata": {
                "id": "_8ebt0AF1bAw"
            },
            "source": [
                "> range()에서 시작숫자가 0일 때에는 생략 가능\n"
            ]
        },
        {
            "cell_type": "code",
            "execution_count": null,
            "metadata": {
                "colab": {
                    "base_uri": "https://localhost:8080/"
                },
                "id": "B1X6olKc1kuJ",
                "outputId": "1034afb0-3007-4098-9016-972d9f81be35"
            },
            "outputs": [],
            "source": [
                "for a in range(10) : \n",
                "    print(a, '선생님, 다시는 청소를 빼먹지 않겠습니다')"
            ]
        },
        {
            "cell_type": "markdown",
            "metadata": {
                "id": "nDc1ylrt03nH"
            },
            "source": [
                "# 3. for i in data :\n",
                "\n",
                "일반적으로 반복문에서는 i라는 변수를 사용합니다\n"
            ]
        },
        {
            "cell_type": "markdown",
            "metadata": {
                "id": "uYdboDiW4n7G"
            },
            "source": [
                "1부터 50까지의 숫자의 합을 구해보자.\n",
                "ex) 1+2+3+...49+50\n"
            ]
        },
        {
            "cell_type": "code",
            "execution_count": null,
            "metadata": {
                "colab": {
                    "base_uri": "https://localhost:8080/"
                },
                "id": "qQGYUE-M4nZD",
                "outputId": "055b2a22-3294-4f8e-ec57-f61d3a78ba39"
            },
            "outputs": [],
            "source": [
                "result = 0\n",
                "\n",
                "for i in range(1, 51) : \n",
                "    result += i\n",
                "\n",
                "print(result)"
            ]
        },
        {
            "cell_type": "markdown",
            "metadata": {
                "id": "ZFSryQew5TMk"
            },
            "source": [
                "숫자 하나를 입력받고, 1부터 입력받은 숫자까지의 곱을 구해보세요.\n",
                "<br/>\n",
                "ex) 5를 입력받은 경우, 1x2x3x4x5 결과 출력하기\n"
            ]
        },
        {
            "cell_type": "code",
            "execution_count": null,
            "metadata": {
                "colab": {
                    "base_uri": "https://localhost:8080/"
                },
                "id": "J8hgPMKC06eR",
                "outputId": "cc11ab35-cc52-48c5-f575-8dd114ec2c6b"
            },
            "outputs": [],
            "source": [
                "num = int(input('숫자 입력 -> '))\n",
                "result = 1\n",
                "\n",
                "for i in range(1, num+1) : \n",
                "    result *= i\n",
                "\n",
                "print(result)"
            ]
        },
        {
            "cell_type": "markdown",
            "metadata": {
                "id": "wHPuVO9W57ym"
            },
            "source": [
                "# 4. 구구단 출력 프로그램\n",
                "\n",
                "4단 출력하기 <br/>\n",
                "\n",
                "```\n",
                "4 x 1 = 4\n",
                "4 x 2 = 8\n",
                "...\n",
                "4 x 8 = 32\n",
                "4 x 9 = 36\n",
                "```\n"
            ]
        },
        {
            "cell_type": "code",
            "execution_count": null,
            "metadata": {
                "colab": {
                    "base_uri": "https://localhost:8080/"
                },
                "id": "3g1T-QQw5u2b",
                "outputId": "7f99aed6-ad8b-4c37-b112-49ede01e0d82"
            },
            "outputs": [],
            "source": [
                "for i in range(1, 10) : \n",
                "    print('4 x', i, '=', 4*i)"
            ]
        },
        {
            "cell_type": "markdown",
            "metadata": {
                "id": "v_SeRM6N7IH8"
            },
            "source": [
                "구구단 외울 단을 입력받아, 해당 숫자의 구구단을 외워봅시다.<br/>\n",
                "ex. 5를 입력받으면 5단 외우기\n"
            ]
        },
        {
            "cell_type": "code",
            "execution_count": null,
            "metadata": {
                "colab": {
                    "base_uri": "https://localhost:8080/"
                },
                "id": "wvdfZY6F7ChW",
                "outputId": "0041872d-48d7-416c-8b1a-5aff3302adaa"
            },
            "outputs": [],
            "source": [
                "num = int(input('몇 단을 외워볼까요? '))\n",
                "\n",
                "for i in range(1, 10) : \n",
                "    print(num, 'x', i, '=', num*i)"
            ]
        },
        {
            "cell_type": "markdown",
            "metadata": {
                "id": "_uWiKA3x7tVP"
            },
            "source": [
                "# 5. 랜덤 구구단 게임 작성하기\n",
                "\n",
                "랜덤으로 곱셈문제를 내고, 답을 맞추는 게임\n"
            ]
        },
        {
            "cell_type": "markdown",
            "metadata": {
                "id": "1CLls7wl72Yr"
            },
            "source": [
                "### 라이브러리란\n",
                "\n",
                "<img src='https://github.com/teacher-jiejie/allinone_AI/blob/images/47_%EB%9D%BC%EC%9D%B4%EB%B8%8C%EB%9F%AC%EB%A6%AC.png?raw=true' width=500>\n",
                "<br/>\n",
                "<br/>\n",
                "\n",
                "<img src='https://github.com/teacher-jiejie/allinone_AI/blob/images/48_%EB%9D%BC%EC%9D%B4%EB%B8%8C%EB%9F%AC%EB%A6%AC.png?raw=true' width=500>\n"
            ]
        },
        {
            "cell_type": "code",
            "execution_count": null,
            "metadata": {
                "colab": {
                    "base_uri": "https://localhost:8080/"
                },
                "id": "dZkX0MhL7dsF",
                "outputId": "cd56573c-ca44-41d1-b024-08aec026c80b"
            },
            "outputs": [],
            "source": [
                "import random\n",
                "\n",
                "random.random()"
            ]
        },
        {
            "cell_type": "code",
            "execution_count": null,
            "metadata": {
                "colab": {
                    "base_uri": "https://localhost:8080/"
                },
                "id": "as2Vnvfb8eV-",
                "outputId": "bc2996cb-79cf-4f91-b2c0-11445a20e4a6"
            },
            "outputs": [],
            "source": [
                "help(random.random)"
            ]
        },
        {
            "cell_type": "code",
            "execution_count": null,
            "metadata": {
                "colab": {
                    "base_uri": "https://localhost:8080/"
                },
                "id": "TZd2F3ZE8hMs",
                "outputId": "ade3c9cd-601e-4b58-a9ad-ee217b917e3a"
            },
            "outputs": [],
            "source": [
                "random.randint(1, 10)"
            ]
        },
        {
            "cell_type": "code",
            "execution_count": null,
            "metadata": {
                "colab": {
                    "base_uri": "https://localhost:8080/"
                },
                "id": "iRxkK6oJ9PaH",
                "outputId": "0eb73972-958a-43dd-adf5-717baf80b3a9"
            },
            "outputs": [],
            "source": [
                "help(random.randint)"
            ]
        },
        {
            "cell_type": "markdown",
            "metadata": {
                "id": "xH8dkBjp9g2I"
            },
            "source": [
                "구구단 게임 형식\n",
                "\n",
                "```\n",
                "구구단을 외자! 구구단을 외자!\n",
                "7 x 9 ? 63\n",
                "3 x 7 ? 21\n",
                "....\n",
                "```\n"
            ]
        },
        {
            "cell_type": "code",
            "execution_count": null,
            "metadata": {
                "colab": {
                    "base_uri": "https://localhost:8080/"
                },
                "id": "X307OmrI9RAr",
                "outputId": "3d1699e8-8116-48e1-a3fa-48982ed48e8d"
            },
            "outputs": [],
            "source": [
                "import random\n",
                "\n",
                "for i in range(5) : \n",
                "    num1 = random.randint(2, 9)\n",
                "    num2 = random.randint(1, 9)\n",
                "    print(num1, 'x', num2,'?')"
            ]
        },
        {
            "cell_type": "markdown",
            "metadata": {
                "id": "WWRqZgGm-ZtL"
            },
            "source": [
                "구구단 게임에 입력칸을 만들어주자!\n"
            ]
        },
        {
            "cell_type": "code",
            "execution_count": null,
            "metadata": {
                "colab": {
                    "base_uri": "https://localhost:8080/"
                },
                "id": "RMtCyLNw-Xii",
                "outputId": "38467334-7964-4a12-f1b4-fbbb83249ffc"
            },
            "outputs": [],
            "source": [
                "import random\n",
                "\n",
                "for i in range(5) : \n",
                "    num1 = random.randint(2, 9)\n",
                "    num2 = random.randint(1, 9)\n",
                "    question = str(num1)+' x '+str(num2)+' ? '\n",
                "    input(question)"
            ]
        },
        {
            "cell_type": "markdown",
            "metadata": {
                "id": "yhW5H934_Lw6"
            },
            "source": [
                "# 6. 반복문 안의 조건문\n",
                "\n",
                "랜덤 구구단 게임에서 입력된 답이 틀렸을 때, '땡! 정답은 00입니다' 출력하기\n"
            ]
        },
        {
            "cell_type": "code",
            "execution_count": null,
            "metadata": {
                "colab": {
                    "base_uri": "https://localhost:8080/"
                },
                "id": "7n-5WOkm-p0w",
                "outputId": "900ec9ef-b57a-4689-ba4c-a32fa5eb0a57"
            },
            "outputs": [],
            "source": [
                "for i in range(5) : \n",
                "    num1 = random.randint(2, 9)\n",
                "    num2 = random.randint(1, 9)\n",
                "    question = str(num1)+' x '+str(num2)+' ? '\n",
                "    # 입력된 답을 변수에 저장하기\n",
                "    answer = int(input(question))\n",
                "\n",
                "    if answer != num1*num2 : \n",
                "        print('땡! 정답은', num1*num2)"
            ]
        },
        {
            "cell_type": "markdown",
            "metadata": {
                "id": "qDNUZNuU__KR"
            },
            "source": [
                "1부터 30까지 숫자의 홀수 짝수 판별하기\n"
            ]
        },
        {
            "cell_type": "code",
            "execution_count": null,
            "metadata": {
                "colab": {
                    "base_uri": "https://localhost:8080/"
                },
                "id": "D-vRuwUl_ykp",
                "outputId": "7eb54908-9720-4caa-fb38-8ebd76c7709d"
            },
            "outputs": [],
            "source": [
                "for i in range(1, 31) : \n",
                "    if i%2 == 1 : \n",
                "        print(i, '홀수')\n",
                "    else : \n",
                "        print(i, '짝수')"
            ]
        },
        {
            "cell_type": "code",
            "execution_count": null,
            "metadata": {
                "id": "SoaJb-WVAZqu"
            },
            "outputs": [],
            "source": []
        }
    ],
    "metadata": {
        "colab": {
            "authorship_tag": "ABX9TyM0MYYkB2A1UsUEu9nhLCO/",
            "collapsed_sections": [],
            "include_colab_link": true,
            "name": "5장-(완성본)-반복문.ipynb",
            "provenance": []
        },
        "kernelspec": {
            "display_name": "Python 3",
            "name": "python3"
        },
        "language_info": {
            "codemirror_mode": {
                "name": "ipython",
                "version": 3
            },
            "file_extension": ".py",
            "mimetype": "text/x-python",
            "name": "python",
            "nbconvert_exporter": "python",
            "pygments_lexer": "ipython3",
            "version": "3.11.4"
        }
    },
    "nbformat": 4,
    "nbformat_minor": 0
}
