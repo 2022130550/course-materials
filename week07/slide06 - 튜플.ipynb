{
  "cells": [
    {
      "cell_type": "markdown",
      "metadata": {},
      "source": [
        "## 튜플 (Tuple) 자료형\n",
        "\n",
        "튜플(tuple)은 몇 가지 점을 제외하곤 리스트와 거의 비슷하며 리스트와 다른 점은 다음과 같다.\n",
        "튜플 자료형이 갖고있는 네 가지 큰 특징은 다음과 같다:\n",
        "\n",
        "1. 변경 불가능(immutable)\n",
        "2. 반복 가능(iterable)\n",
        "3. 원소 자료형 무관\n",
        "4. 유익한 메소드\n"
      ]
    },
    {
      "cell_type": "markdown",
      "metadata": {},
      "source": [
        "### 튜플은 어떻게 만들까?\n",
        "\n",
        "튜플은 다음과 같이 여러 가지 모습으로 생성할 수 있다.\n"
      ]
    },
    {
      "cell_type": "code",
      "execution_count": null,
      "metadata": {},
      "outputs": [],
      "source": [
        "t1 = ()\n",
        "t2 = (1,)\n",
        "t3 = (1, 2, 3)\n",
        "t4 = 1, 2, 3\n",
        "t5 = ('a', 'b', ('ab', 'cd'))"
      ]
    },
    {
      "cell_type": "markdown",
      "metadata": {},
      "source": [
        "모습은 리스트와 거의 비슷하지만, 튜플에서는 리스트와 다른 2가지 차이점을 찾아볼 수 있다. `t2 = (1,)`처럼 단지 1개의 요소만을 가질 때는 요소 뒤에 쉼표(,)를 반드시 붙여야 한다는 것과 `t4 = 1, 2, 3`처럼 소괄호(())를 생략해도 된다는 점이다.\n"
      ]
    },
    {
      "cell_type": "markdown",
      "metadata": {},
      "source": [
        "얼핏 보면 튜플과 리스트는 비슷한 역할을 하지만, 프로그래밍을 할 때 튜플과 리스트는 구별해서 사용하는 것이 유리하다.\n",
        "\n",
        "튜플과 리스트의 가장 큰 차이는 요솟값을 변화시킬 수 있는지의 여부이다. 즉, 리스트의 요솟값은 변화가 가능하고 튜플의 요솟값은 변화가 불가능하다.\n",
        "\n",
        "따라서 프로그램이 실행되는 동안 요솟값이 항상 변하지 않기를 바란다거나 값이 바뀔까 걱정하고 싶지 않다면 주저하지 말고 튜플을 사용해야 한다. 이와 반대로 수시로 그 값을 변화시켜야할 경우라면 리스트를 사용해야 한다. 실제 프로그램에서는 값이 변경되는 형태의 변수가 훨씬 많기 때문에 평균적으로 튜플보다 리스트를 더 많이 사용한다.\n"
      ]
    },
    {
      "cell_type": "markdown",
      "metadata": {},
      "source": [
        "### 튜플 - 변경 불가능(immutable)\n",
        "\n",
        "앞에서 설명했듯이 튜플의 요솟값은 한 번 정하면 지우거나 변경할 수 없다. 다음에 소개하는 두 예를 살펴보면 무슨 말인지 알 수 있을 것이다.\n"
      ]
    },
    {
      "cell_type": "markdown",
      "metadata": {},
      "source": [
        "#### 1. 튜플 요솟값을 삭제하려 할 때\n"
      ]
    },
    {
      "cell_type": "code",
      "execution_count": null,
      "metadata": {},
      "outputs": [],
      "source": [
        "t1 = (1, 2, 'a', 'b')\n",
        "## del t1[0]  ## This will raise an error"
      ]
    },
    {
      "cell_type": "markdown",
      "metadata": {},
      "source": [
        "튜플의 요소를 리스트처럼 del 함수로 지우려고 한 예이다. 튜플은 요솟값을 지울 수 없다는 오류 메시지를 확인할 수 있다.\n"
      ]
    },
    {
      "cell_type": "markdown",
      "metadata": {},
      "source": [
        "#### 2. 튜플 요솟값을 변경하려 할 때\n"
      ]
    },
    {
      "cell_type": "code",
      "execution_count": null,
      "metadata": {},
      "outputs": [],
      "source": [
        "t1 = (1, 2, 'a', 'b')\n",
        "## t1[0] = 'c'  ## This will raise an error"
      ]
    },
    {
      "cell_type": "markdown",
      "metadata": {},
      "source": [
        "튜플의 요솟값을 변경하려고 해도 오류가 발생하는 것을 확인할 수 있다.\n"
      ]
    },
    {
      "cell_type": "markdown",
      "metadata": {},
      "source": [
        "### 튜플 - 반복 가능(iterable)\n",
        "\n",
        "튜플은 리스트와 마찬가지로 반복 가능한(iterable) 자료형이다.\n"
      ]
    },
    {
      "cell_type": "code",
      "execution_count": null,
      "metadata": {},
      "outputs": [],
      "source": [
        "my_first_tuple = (0, 1, 2, 3, 4, 5)\n",
        "print(type(my_first_tuple))\n",
        "print(len(my_first_tuple))\n",
        "for item in my_first_tuple:\n",
        "    print(item, end=\" \")"
      ]
    },
    {
      "cell_type": "markdown",
      "metadata": {},
      "source": [
        "인덱싱과 슬라이싱은 리스트와 동일하게 작동한다\n"
      ]
    },
    {
      "cell_type": "code",
      "execution_count": null,
      "metadata": {},
      "outputs": [],
      "source": [
        "print(\"\\n\"+str(my_first_tuple[3]))\n",
        "print(my_first_tuple[2:4])\n",
        "print(my_first_tuple[-1:-4:-2])\n"
      ]
    },
    {
      "cell_type": "markdown",
      "metadata": {},
      "source": [
        "### 튜플 - 원소 자료형 무관\n",
        "\n",
        "튜플 내부 원소들의 자료형 역시 리스트와 마찬가지로 일관되지 않아도 된다.\n",
        "\n",
        "즉, 원소가 어떠한 자료형을 가지는지 신경을 쓰지 않고 자유자재로 다룰 수 있다.\n"
      ]
    },
    {
      "cell_type": "code",
      "execution_count": null,
      "metadata": {},
      "outputs": [],
      "source": [
        "my_tuple = (0, 1, \"2\")\n",
        "my_second_tuple = (3, 4.0)\n",
        "my_tuple = my_tuple.__add__(my_second_tuple)\n",
        "print(my_tuple)\n"
      ]
    },
    {
      "cell_type": "markdown",
      "metadata": {},
      "source": [
        "### 튜플 - 유익한 메소드 제공 및 그 외\n",
        "\n",
        "튜플에도 리스트와 마찬가지로 유익한 메소드(클래스 함수)를 제공하고 있다.\n",
        "\n",
        "`count`, `index`, etc.\n"
      ]
    },
    {
      "cell_type": "code",
      "execution_count": null,
      "metadata": {},
      "outputs": [],
      "source": [
        "my_tuple = (0, 1, \"2\")\n",
        "print(my_tuple.count(0))\n",
        "print(my_tuple.index(\"2\"))\n",
        "print(my_tuple.index(2))\n"
      ]
    },
    {
      "cell_type": "markdown",
      "metadata": {},
      "source": [
        "다만, 튜플은 immutable하므로 원소 값의 수정 및 삭제와 관련된 메소드는 존재하지 않는다\n",
        "\n",
        "내장 함수 len, max, min을 통해 튜플의 원소 개수, 최댓값, 최솟값을 구할 수 있다\n"
      ]
    },
    {
      "cell_type": "code",
      "execution_count": null,
      "metadata": {},
      "outputs": [],
      "source": [
        "my_first_tuple = (0, 1, 2, 3, 4, 5)\n",
        "print(len(my_first_tuple))\n",
        "print(max(my_first_tuple))\n",
        "print(min(my_first_tuple))"
      ]
    },
    {
      "cell_type": "markdown",
      "metadata": {},
      "source": [
        "튜플에서도 + 과 \\* 연산자를 지원한다.\n",
        "\n",
        "+는 튜플의 **add** 메소드 역할과 동일하다.\n",
        "\n",
        "\\*은 “튜플 자기 자신을 몇번 반복하여 연장할 것인가”를 수행하는 연산자이다.\n"
      ]
    },
    {
      "cell_type": "code",
      "execution_count": null,
      "metadata": {},
      "outputs": [],
      "source": [
        "tuple_A = (1, 2, 1, 3)\n",
        "tuple_B = (\"a\", \"B\", 10.0)\n",
        "print(tuple_A + tuple_B)\n",
        "print(tuple_A * 3)\n",
        "print((tuple_A * 3).count(1))\n"
      ]
    }
  ],
  "metadata": {
    "kernelspec": {
      "display_name": "Python 3",
      "language": "python",
      "name": "python3"
    },
    "language_info": {
      "codemirror_mode": {
        "name": "ipython",
        "version": 3
      },
      "file_extension": ".py",
      "mimetype": "text/x-python",
      "name": "python",
      "nbconvert_exporter": "python",
      "pygments_lexer": "ipython3",
      "version": "3.11.4"
    },
    "orig_nbformat": 4
  },
  "nbformat": 4,
  "nbformat_minor": 2
}
