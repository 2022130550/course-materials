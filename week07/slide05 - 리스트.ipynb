{
 "cells": [
  {
   "cell_type": "markdown",
   "metadata": {},
   "source": [
    "## 리스트 자료형\n",
    "\n",
    "**가장 자주 보는 자료형**으로 많은 자료들이 리스트로 저장된다.\\\n",
    "\n",
    "리스트 자료형은 자유도와 활용도가 매우 높아 파이썬 개발자들에게 자주 사용되는 자료형이다\n",
    "리스트 자료형이 갖고있는 네 가지 큰 특징은 다음과 같다:\n",
    "\n",
    "1. 반복 가능(iterable)\n",
    "2. 원소 자료형 무관\n",
    "3. 변경 가능(mutable)\n",
    "4. 유익한 메소드\n"
   ]
  },
  {
   "cell_type": "markdown",
   "metadata": {},
   "source": [
    "### 리스트 - 반복 가능(iterable)\n",
    "\n",
    "리스트는 반복 가능한(iterable) 자료형이다.\n",
    "\n",
    "수학에서 배운 배열(array)을 일반화한 것으로 간주하면 이해하기 쉽다.\n"
   ]
  },
  {
   "cell_type": "code",
   "execution_count": null,
   "metadata": {},
   "outputs": [],
   "source": [
    "my_first_list = [0, 1, 2, 3, 4, 5]\n",
    "print(type(my_first_list))\n",
    "print(len(my_first_list))\n",
    "for item in my_first_list:\n",
    "    print(item, end=\" \")\n"
   ]
  },
  {
   "cell_type": "markdown",
   "metadata": {},
   "source": [
    "### 리스트 - 반복 가능(iterable): 요소 1개 접근하기\n",
    "\n",
    "리스트와 같은 iterable 자료형들은 내부 각 원소에 대한 접근 및 전달이 가능한 것이 특징이다.\n",
    "\n",
    "인덱싱과 슬라이싱은 iterable 객체 내부 원소(들)에 대한 접근 방식을 의미한다.\n",
    "\n",
    "인덱싱(indexing): 원소 한 개에 대한 접근\n",
    "\n",
    "**잠깐! 파이썬은 0-based 넘버링을 취한다. (첫번째 원소의 인덱스는 1이 아니라 0이다!) 오해의 소지를 줄이고자 지금부터 가장 처음에 나타나는 원소(인덱스 0)를 0번째라고 서술하겠다.**\n"
   ]
  },
  {
   "cell_type": "code",
   "execution_count": null,
   "metadata": {},
   "outputs": [],
   "source": [
    "my_first_list = [0, 1, 2, 3, 4, 5]\n",
    "print(my_first_list[0]) # 맨 처음 원소 인덱싱\n",
    "print(my_first_list[-1]) # 마지막 원소 인덱싱\n",
    "print(my_first_list[-3]) # 뒤에서 세번째 원소 인덱싱\n",
    "print(my_first_list[6]) # 인덱싱 에러 (범위 밖)"
   ]
  },
  {
   "cell_type": "markdown",
   "metadata": {},
   "source": [
    "이처럼 범위 밖의 원소에 접근하고자 할 때는 IndexError가 발생한다\n",
    "\n",
    "(객체에 원소가 n개 있을 때, -n부터 n-1까지가 유효한 index range)\n"
   ]
  },
  {
   "cell_type": "markdown",
   "metadata": {},
   "source": [
    "### 리스트 - 반복 가능(iterable): 요소 N개 접근하기 (1)\n",
    "\n",
    "리스트와 같은 iterable 자료형들은 내부 각 원소에 대한 접근 및 전달이 가능한 것이 특징이다.\n",
    "\n",
    "인덱싱과 슬라이싱은 iterable 객체 내부 원소(들)에 대한 접근 방식을 의미한다.\n",
    "\n",
    "슬라이싱(slicing): 원소 N 개에 대한 접근\n"
   ]
  },
  {
   "cell_type": "code",
   "execution_count": null,
   "metadata": {},
   "outputs": [],
   "source": [
    "my_first_list = [0, 1, 2, 3, 4, 5]\n",
    "print(my_first_list[0:3]) # 0 이상 3 미만 인덱스의 원소들 슬라이싱\n",
    "print(type(my_first_list[0:3])) # 슬라이싱의 결과는 리스트\n",
    "print(my_first_list[2:3]) # 2 이상 3 미만 (즉, 두번째 원소 only)\n",
    "print(type(my_first_list[2:3])) # 슬라이싱의 결과는 리스트\n",
    "print(my_first_list[:])     # 전체 원소\n",
    "print(type(my_first_list[:])) # 슬라이싱의 결과는 리스트\n"
   ]
  },
  {
   "cell_type": "markdown",
   "metadata": {},
   "source": [
    "슬라이싱은 콜론(:)을 사용하여 접근하고자 하는 원소들의 구간을 설정한다.\n",
    "\n",
    "구간은 단일구간이며 단방향으로 지정할 수 있다.\n"
   ]
  },
  {
   "cell_type": "markdown",
   "metadata": {},
   "source": [
    "### 리스트 - 반복 가능(iterable): 요소 N개 접근하기 (2)\n",
    "\n",
    "리스트와 같은 iterable 자료형들은 내부 각 원소에 대한 접근 및 전달이 가능한 것이 특징이다.\n",
    "\n",
    "인덱싱과 슬라이싱은 iterable 객체 내부 원소(들)에 대한 접근 방식을 의미한다.\n",
    "\n",
    "슬라이싱(slicing): 원소 N 개에 대한 접근.\n"
   ]
  },
  {
   "cell_type": "code",
   "execution_count": null,
   "metadata": {},
   "outputs": [],
   "source": [
    "my_first_list = [0, 1, 2, 3, 4, 5]\n",
    "print(my_first_list[2:5])     # 전체 원소\n",
    "print(my_first_list[2:5:1])  # 위와 동치 (하나씩 건너뛰며 순회)\n",
    "print(my_first_list[2:5:2]) \n"
   ]
  },
  {
   "cell_type": "markdown",
   "metadata": {},
   "source": [
    "사실 온전한 슬라이싱은 두 개의 콜론을 사용하여 표현한다.\n",
    "\n",
    "[start:end:step]형태에서 start은 슬라이싱 시작 인덱스, end는 슬라이싱 마지막+1 인덱스, step은 건너뛰는 크기를 의미한다. (양수는 오른쪽 방향, 음수는 왼쪽 방향)\n"
   ]
  },
  {
   "cell_type": "code",
   "execution_count": null,
   "metadata": {},
   "outputs": [],
   "source": [
    "print(my_first_list[5:2])      # 5 이상 2 미만에 걸치는 구간 없음\n",
    "print(my_first_list[5:2:-1])  # step을 음수로 표현하면 해결\n",
    "print(my_first_list[-1::-2])   # 맨 뒤부터 처음까지 2칸씩 건너기"
   ]
  },
  {
   "cell_type": "markdown",
   "metadata": {},
   "source": [
    "### 리스트 - 변경 가능(mutable)\n",
    "\n",
    "파이썬에서 객체는 변경이 가능한(mutable) 자료형과 아닌(immutable) 것이 있다.\n",
    "\n",
    "list, dict, set의 경우는 mutable 자료형에 속하고 나머지는 immutable하다고 생각하면 된다.\n",
    "\n",
    "mutable 객체의 장점은 내부 원소의 수정과 삭제가 자유롭다는 것이다.\n"
   ]
  },
  {
   "cell_type": "code",
   "execution_count": null,
   "metadata": {},
   "outputs": [],
   "source": [
    "my_first_list = [0, 1, 2, 3, 4, 5]\n",
    "print(my_first_list) \n",
    "my_first_list[0] = \"Start\" # 0번째 원소 재할당\n",
    "print(my_first_list) # 수정된 리스트 출력\n",
    "my_first_list[3:] = \"0\" # 3번째 이후 구간은 “0\"  원소 하나로 재할당\n",
    "print(my_first_list)\n",
    "del(my_first_list[0]) # 빌트인 함수 del을 활용한   0번째 원소 제거\n",
    "print(my_first_list)\n"
   ]
  },
  {
   "cell_type": "markdown",
   "metadata": {},
   "source": [
    "### 리스트 - 변경 가능(mutable): immutable 과 구분하기\n",
    "\n",
    "파이썬에서 객체는 변경이 가능한(mutable) 자료형과 아닌(immutable) 것이 있다.\n",
    "\n",
    "list, dict, set의 경우는 mutable 자료형에 속하고 나머지는 immutable하다고 생각하면 된다.\n",
    "\n",
    "예로들어, immutable 자료형에 속하는 str(string; 문자열) 자료형은 내부 원소 값의 조회는 되지만,\n"
   ]
  },
  {
   "cell_type": "code",
   "execution_count": null,
   "metadata": {},
   "outputs": [],
   "source": [
    "string_example = \"Hello\"\n",
    "print(string_example[0])\n",
    "print(string_example[2:])"
   ]
  },
  {
   "cell_type": "markdown",
   "metadata": {},
   "source": [
    "수정을 시도하려고 하면 아래와 같이 TypeError가 발생함을 알 수 있다\n"
   ]
  },
  {
   "cell_type": "code",
   "execution_count": null,
   "metadata": {},
   "outputs": [],
   "source": [
    "string_example[0] = 'h' # 자료형 오류"
   ]
  },
  {
   "cell_type": "markdown",
   "metadata": {},
   "source": [
    "이럴 때에는 현재 자료형의 성질을 잘 활용하거나,\n"
   ]
  },
  {
   "cell_type": "code",
   "execution_count": null,
   "metadata": {},
   "outputs": [],
   "source": [
    "string_example = 'h' + string_example[1:] # 문자열 연산자 ‘+’과 슬라이싱을 활용"
   ]
  },
  {
   "cell_type": "markdown",
   "metadata": {},
   "source": [
    "형 변환 (Type Casting)을 통해 mutable 자료형으로 변경한 뒤 다시 원래 자료형으로 되돌릴 수 있다\n"
   ]
  },
  {
   "cell_type": "code",
   "execution_count": null,
   "metadata": {},
   "outputs": [],
   "source": [
    "list_example = list(string_example) # 리스트 내장 함수를 활용하여 형 변환\n",
    "list_example[0] = 'h' # 리스트 0번째 값 수정\n",
    "string_example = \"\".join(list_example) # 문자열 자료형의 join 메소드를 활용 (list -> str)\n"
   ]
  },
  {
   "cell_type": "markdown",
   "metadata": {},
   "source": [
    "### 리스트 - 원소 자료형 무관\n",
    "\n",
    "리스트 내부 원소들의 자료형은 일관되지 않아도 된다.\n",
    "\n",
    "즉, 원소가 어떠한 자료형을 가지는지 신경을 쓰지 않고 자유자재로 다룰 수 있다.\n"
   ]
  },
  {
   "cell_type": "code",
   "execution_count": null,
   "metadata": {},
   "outputs": [],
   "source": [
    "my_second_list = [\"a\", None, 3, 4.01, [5]]\n",
    "print(my_second_list)\n",
    "for value in my_second_list:\n",
    "    print(value, end=\" \")\n",
    "print(my_second_list[-1])\n"
   ]
  },
  {
   "cell_type": "markdown",
   "metadata": {},
   "source": [
    "### 리스트 - 유익한 메소드 제공\n",
    "\n",
    "리스트에는 유익한 메소드(클래스 함수)를 다양하게 제공하고 있다.\n",
    "\n",
    "이들을 적재적소로 잘 활용하는 것이 개발자로서는 무척 중요하다.\n",
    "\n",
    "무엇이든 개발 도중에 궁금한 것이 발생하면 빌트인 함수인 help를 사용하거나 구글링을 하자.\n",
    "\n",
    "본 수업에서 다뤄볼 메소드들은 총 아홉가지이며 모두 빈번히 사용되므로 사용법을 잘 숙지하자.\n",
    "\n",
    "1. `append`\n",
    "2. `pop`\n",
    "3. `count`\n",
    "4. `index`\n",
    "5. `remove`\n",
    "6. `sort`\n",
    "7. `reverse`\n",
    "8. `insert`\n",
    "9. `extend`\n"
   ]
  },
  {
   "cell_type": "markdown",
   "metadata": {},
   "source": [
    "### 리스트 - append, pop, count\n",
    "\n",
    "`append` - 특정 값을 리스트의 마지막 자리에 원소로써 추가한다.\n",
    "\n",
    "`pop` - 리스트의 마지막 원소를 추출 및 반환한다.\n",
    "\n",
    "`count` - 리스트 내에 특정 값이 얼마나 존재하는지 빈도수를 반환한다.\n"
   ]
  },
  {
   "cell_type": "code",
   "execution_count": null,
   "metadata": {},
   "outputs": [],
   "source": [
    "hobby = [\"Book\", \"Movie\", \"Bike\", \"Golf\"]\n",
    "print(f\"hobby: {hobby}\")\n",
    "hobby.append(\"Travel\") # 마지막 자리 원소 추가\n",
    "print(f\"hobby(1): {hobby}\")\n",
    "print(hobby.pop()) # 마지막 원소 추출 및 반환\n",
    "print(f\"hobby(2): {hobby}\")\n",
    "hobby.append(\"Book\") # \"Book\" 중복 추가\n",
    "print(f\"hobby(3): {hobby}\")\n",
    "print(f\"How many 'Book'?: {hobby.count('Book')}\")   # \"Book\" 원소 카운트\n"
   ]
  },
  {
   "cell_type": "markdown",
   "metadata": {},
   "source": [
    "### 리스트 - index, remove, sort, reverse\n",
    "\n",
    "`index` - 특정 값이 존재하는 인덱스를 반환 (여러개가 있다면 가장 낮은 인덱스를 반환)\n",
    "\n",
    "`remove` - 리스트에서 특정 값의 원소를 제거 (여러개가 있다면 가장 낮은 인덱스의 값을 제거)\n",
    "\n",
    "`sort` - 리스트의 원소들을 정렬 (ascending order가 default; reverse 옵션으로 조절 가능)\n",
    "\n",
    "`reverse` - 리스트의 원소들을 마지막 인덱스에서부터 거꾸로 정렬\n"
   ]
  },
  {
   "cell_type": "code",
   "execution_count": null,
   "metadata": {},
   "outputs": [],
   "source": [
    "print(f\"Where is the first 'Book'?: {hobby.index('Book')}\")# \"Book\"이 존재하는 가장 낮은 인덱스(위치)를 반환 \n",
    "hobby.remove(\"Book\")\n",
    "print(f\"hobby(4): {hobby}\")\n",
    "hobby.sort()\n",
    "print(f\"hobby(5): {hobby}\")\n",
    "hobby.reverse()\n",
    "print(f\"hobby(6): {hobby}\")\n",
    "hobby.sort(reverse=True) \n",
    "print(f\"hobby(7): {hobby}\")"
   ]
  },
  {
   "cell_type": "markdown",
   "metadata": {},
   "source": [
    "### 리스트 - insert, extend\n",
    "\n",
    "`insert` - 리스트의 특정 인덱스에 특정 값을 삽입\n",
    "\n",
    "`extend` - 리스트 뒤에 또 다른 리스트를 연장 (하나의 리스트로 존재; A.extend(B) -> A가 B까지 흡수)\n"
   ]
  },
  {
   "cell_type": "code",
   "execution_count": null,
   "metadata": {},
   "outputs": [],
   "source": [
    "hobby.insert(2, \"Jogging\") # 두번째 자리에\"Jogging\" 원소를 삽입\n",
    "print(f\"hobby(8): {hobby}\")\n",
    "hobby.extend([\"Singing\", \"Dancing\"])# hobby 리스트 뒤에 해당 리스트를 연장\n",
    "print(f\"hobby(9): {hobby}\")"
   ]
  },
  {
   "cell_type": "markdown",
   "metadata": {},
   "source": [
    "### 리스트 - 그 외\n",
    "\n",
    "리스트에는 `+` 과 `*` 연산자를 지원한다.\n",
    "\n",
    "`+`는 리스트의 `extend` 메소드 역할과 동일하다.\n",
    "\n",
    "`*`은 “리스트 자기 자신을 몇번 반복하여 연장할 것인가”를 수행하는 연산자이다.\n"
   ]
  },
  {
   "cell_type": "code",
   "execution_count": null,
   "metadata": {},
   "outputs": [],
   "source": [
    "print([\"Hi\"] + [\"There\"]) \n",
    "print([\"Hi\"] * 3)\n"
   ]
  },
  {
   "cell_type": "markdown",
   "metadata": {},
   "source": [
    "추가적으로, 리스트와 문자열간의 형 변환은 꽤 빈번히 활용되므로 문자열의 메소드이지만 리스트와 연관되어있는 join과 split 메소드에 대해 미리 알아보자\n"
   ]
  },
  {
   "cell_type": "code",
   "execution_count": null,
   "metadata": {},
   "outputs": [],
   "source": [
    "hobby_list = [\"Book\", \"Movie\", \"Bike\", \"Golf\"]\n",
    "hobby_str = \", \".join(hobby_list) # list -> str\n",
    "print(hobby_str)\n",
    "new_hobby_list = hobby_str.split(\", \") # str -> list\n",
    "print(new_hobby_list)"
   ]
  },
  {
   "cell_type": "markdown",
   "metadata": {},
   "source": [
    "특히 split 메소드의 경우에는 구분자(separator)를 기준으로 문자열을 분리하는데 default 값은 공백 문자 혹은 시퀀스이다\n"
   ]
  },
  {
   "cell_type": "code",
   "execution_count": null,
   "metadata": {},
   "outputs": [],
   "source": [
    "hobby_list = [\"Book\", \"Movie\", \"Bike\", \"Golf\"]\n",
    "hobby_str = \" \".join(hobby_list) # 공백 문자\n",
    "hobby_str2 = \" \".join(hobby_list) # 공백 시퀀스 (1)\n",
    "hobby_str3 = \"\\n\\t \".join(hobby_list) # 공백 시퀀스 (2)\n",
    "print(hobby_str == hobby_str2 == hobby_str3)\n",
    "new_list = hobby_str.split()\n",
    "new_list2 = hobby_str2.split()\n",
    "new_list3 = hobby_str3.split()\n",
    "print(new_list == new_list2 == new_list3)"
   ]
  }
 ],
 "metadata": {
  "kernelspec": {
   "display_name": "Python 3",
   "language": "python",
   "name": "python3"
  },
  "language_info": {
   "codemirror_mode": {
    "name": "ipython",
    "version": 3
   },
   "file_extension": ".py",
   "mimetype": "text/x-python",
   "name": "python",
   "nbconvert_exporter": "python",
   "pygments_lexer": "ipython3",
   "version": "3.11.4"
  },
  "orig_nbformat": 4
 },
 "nbformat": 4,
 "nbformat_minor": 2
}
