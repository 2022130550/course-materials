{
 "cells": [
  {
   "cell_type": "markdown",
   "metadata": {},
   "source": [
    "## 집합(set) 자료형\n",
    "\n",
    "집합 자료형은 set으로 표기되며 수학에서 배운 집합과 유사하다.\n",
    "\n",
    "집합의 특징인 동일한 원소를 중복하여 가지고 있을 수 없고 해당 원소들은 특정한 순서를 띄지 않는다는 것을 그대로 반영한다 (동일한 값을 소지할 수 없는 주머니를 연상).KeyError\n",
    "\n",
    "사전 자료형과 동일하게 중괄호{}로 원소들을 묶지만, 원소는 딕셔너리와 다르게 단일 값들을 가진다.\n"
   ]
  },
  {
   "cell_type": "code",
   "execution_count": null,
   "metadata": {},
   "outputs": [],
   "source": [
    "korea_university_mascort= {\"name\": \"Hwanho\", \"age\": 25}\n",
    "my_first_set = {\"element1\", \"element2\", \"element3\"}\n",
    "print(korea_university_mascort)\n",
    "print(my_first_set)\n",
    "print(my_first_set[0])  # Not subscriptable (인덱스 X)"
   ]
  },
  {
   "cell_type": "markdown",
   "metadata": {},
   "source": [
    "집합 내 원소는 사전 자료형의 key값과 동일한 자료형의 제약을 받게 되는데, 바로 hashable(해시가능)해야 한다\n",
    "잇따라 오는 예제 코드를 통해 집합 자료형에 대해 더 알아보자.\n",
    "\n",
    "집합 자료형의 대표적인 메소드 중 세 가지를 소개한다: `add`, `update`, `remove`\n"
   ]
  },
  {
   "cell_type": "code",
   "execution_count": null,
   "metadata": {},
   "outputs": [],
   "source": [
    "hello_set = {\"Hello\"} # 집합 객체 초기화\n",
    "hello2_set = set(\"Hello\") # 문자열의 각 문자를 집합의 원소로 간주\n",
    "print(hello_set)\n",
    "print(hello2_set) # 집합 내 원소의 unordered 특성 \n",
    "hello2_set.add(\"d\") # add: 집합에 원소 한개 추가\n",
    "print(hello2_set)\n",
    "hello2_set.update(\"e\", \"f\") # update: 원소 여러개 추가\n",
    "print(hello2_set)\n",
    "hello2_set.remove(\"l\") # remove: 원소 한개 제거\n",
    "print(hello2_set)\n"
   ]
  },
  {
   "cell_type": "markdown",
   "metadata": {},
   "source": [
    "수학에서의 집합 개념과 유사하게 파이썬의 집합 자료형도 다음과 같은 네가지의 집합 연산을 지원한다:\n",
    "\n",
    "- 교집합 (intersection): & 연산자 혹은 intersection 메소드 사용\n",
    "- 합집합 (union): | 연산자 혹은 union 메소드 사용\n",
    "- 차집합 (difference): - 연산자 혹은 difference 메소드 사용\n",
    "- 대칭차집합 (symmetric difference): ^ 혹은 symmetric_difference 메소드 사용\n"
   ]
  },
  {
   "cell_type": "code",
   "execution_count": null,
   "metadata": {},
   "outputs": [],
   "source": [
    "set1 = set([1, 2, 3, 4, 5.0]) # 리스트 객체의 형변환\n",
    "set2 = set([3, 4, 5.0, 5, 6, \"7\"])\n",
    "print(set2) # 집합에서는 수학적으로 값이 같으면 동일 원소로 간주\n",
    "print(set1 & set2) # 교집합 - 연산자\n",
    "print(set1.intersection(set2)) # 교집합 - 메소드\n",
    "print(set1 | set2) # 합집합 - 연산자\n",
    "print(set1.union(set2)) # 합집합 - 메소드\n"
   ]
  },
  {
   "cell_type": "code",
   "execution_count": null,
   "metadata": {},
   "outputs": [],
   "source": [
    "set1 = set([1, 2, 3, 4, 5.0]) # 리스트 객체의 형변환\n",
    "set2 = set([3, 4, 5.0, 5, 6, \"7\"])\n",
    "print(set1 - set2) # 차집합 - 연산자 (1)\n",
    "print(set2 - set1) # 차집합 - 연산자 (2)\n",
    "print(set1.difference(set2)) # 차집합 - 메소드 (1)\n",
    "print(set2.difference(set1)) # 차집합 - 메소드 (2)\n",
    "print(set1 ^ set2) # 대칭차집합 - 연산자\n",
    "print(set1.symmetric_difference(set2)) # 대칭차집합 - 메소드 \n",
    "print((set1 | set2) - (set1 & set2)) # 위와 동치\n"
   ]
  },
  {
   "cell_type": "markdown",
   "metadata": {},
   "source": [
    "집합 자료형은 리스트와 튜플로의 형변환이 가능하다 (역으로 가능).\n",
    "\n",
    "다만, 사전 자료형은 리스트와 튜플로의 형변환 중 value 값을 손실하고, 역으로 형변환이 불가하다.\n"
   ]
  },
  {
   "cell_type": "code",
   "execution_count": null,
   "metadata": {},
   "outputs": [],
   "source": [
    "my_set = {1, (2,), 3.0, \"a\"}\n",
    "my_dict = {1: (2), 3.0: \"a\"}\n",
    "my_tuple = tuple(my_set) # 집합 -> 튜플\n",
    "my_list = list(my_set) # 집합 -> 리스트\n",
    "print(my_tuple)\n",
    "print(my_list)\n",
    "my_tuple = tuple(my_dict) # 사전 -> 튜플\n",
    "my_list = list(my_dict) # 사전 -> 리스트\n",
    "print(my_tuple)\n",
    "print(my_list)\n",
    "my_set_2 = set(my_tuple) # 튜플 -> 집합\n",
    "print(my_set_2)\n",
    "my_dict_2 = dict(my_tuple) # 튜플 -> 사전 (불가능)"
   ]
  },
  {
   "cell_type": "code",
   "execution_count": null,
   "metadata": {},
   "outputs": [],
   "source": []
  }
 ],
 "metadata": {
  "kernelspec": {
   "display_name": "Python 3",
   "language": "python",
   "name": "python3"
  },
  "language_info": {
   "codemirror_mode": {
    "name": "ipython",
    "version": 3
   },
   "file_extension": ".py",
   "mimetype": "text/x-python",
   "name": "python",
   "nbconvert_exporter": "python",
   "pygments_lexer": "ipython3",
   "version": "3.11.4"
  }
 },
 "nbformat": 4,
 "nbformat_minor": 2
}
