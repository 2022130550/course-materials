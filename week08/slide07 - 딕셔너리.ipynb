{
 "cells": [
  {
   "cell_type": "markdown",
   "metadata": {},
   "source": [
    "## 딕셔너리 자료형(dictionary)\n",
    "\n",
    "사전 자료형은 dict로 표기되며 dictionary의 준말이다.\n",
    "\n",
    "백과사전을 볼 때 키워드와 내용이 담겨있는 것처럼 사전 자료형도 key:value 형식을 띈다:\n",
    "\n",
    "```\n",
    "{key_1:val_1, key_2:val_2, …, key_n:val_n}\n",
    "```\n",
    "\n",
    "key와 value의 한 쌍이 곧 사전을 이루는 원소단위이다.\n",
    "\n",
    "리스트는 대괄호, 튜플은 소괄호였다면 사전과 집합은 중괄호{}로 원소들을 감싼다.\n",
    "\n",
    "우리가 백과사전에서 키워드로 검색해서 내용을 찾듯이 파이썬의 사전 자료형도 key값으로 검색하여 value값을 조회하는 것이 일반적이다.\n",
    "\n",
    "예제 코드를 통해 사전 자료형에 대해 알아보도록 하자.\n"
   ]
  },
  {
   "cell_type": "code",
   "execution_count": null,
   "metadata": {},
   "outputs": [],
   "source": [
    "my_first_dict = {\"Name\": \"Hoi\", \"Birth Year\": 2023, 4.9:{\"Hi\":{\"Hello\"}}, (\"Bonjour\"):[\"안녕\"]}"
   ]
  },
  {
   "cell_type": "markdown",
   "metadata": {},
   "source": [
    "위와 같이 사전 자료형 속 key와 value는 자료형으로 다양하게 들어갈 수 있다.\n",
    "\n",
    "하지만 key의 경우에는 자료형의 제약을 받게 되는데, 바로 hashable(해시가능)해야 한다. hashable은 값을 해시함수에 넣어 hash(해시) 값으로 변환할 수 있다는 것을 의미한다. hash는 어떠한 특정 값에 대해서 유일한 값을 가져야 한다. 따라서 해시함수의 입력값이 변하면 출력값도 변한다. 백과사전을 펼쳤을 때 똑같은 키워드로 검색을 했는데 계속해서 다른 내용이 나오면 안되는 것과 동치이다.\n",
    "\n",
    "따라서 사전 자료형의 key 값은 hashable 해야하고 추후 수정/변경을 하지 못하게 immutable한 자료형으로 존재해야 한다 (이를 지키지 않으면 TypeError 발생).\n"
   ]
  },
  {
   "cell_type": "code",
   "execution_count": null,
   "metadata": {},
   "outputs": [],
   "source": [
    "yes_tuple_key = {(0):1} # 튜플 -> immutable\n",
    "no_list_key = {[0]:1} # 리스트 -> mutable "
   ]
  },
  {
   "cell_type": "code",
   "execution_count": null,
   "metadata": {},
   "outputs": [],
   "source": [
    "age_dict = {\"Hoi\": 9} # 딕셔너리 객체 생성\n",
    "age_dict['Kui'] = 4 # 딕셔너리에 key-value 쌍 추가\n",
    "print(age_dict)\n",
    "del age_dict['Hoi'] # 특정 key 값에 해당되는 원소 제거\n",
    "print(age_dict)"
   ]
  },
  {
   "cell_type": "markdown",
   "metadata": {},
   "source": [
    "사전 자료형의 key값들은 hashable 해야하기에 중복된 값을 가질 수 없다.\n",
    "\n",
    "만약에 동일한 key값을 가지지만 다른 value값을 가지도록 명령한다면 해당 key값에 대응되는 value가 새로운 값으로 갱신된다.\n"
   ]
  },
  {
   "cell_type": "code",
   "execution_count": null,
   "metadata": {},
   "outputs": [],
   "source": [
    "age_dict['Hoi'] = 10 # 이전 value 값인 9가 10으로 수정\n",
    "print(age_dict)"
   ]
  },
  {
   "cell_type": "markdown",
   "metadata": {},
   "source": [
    "사전 객체 생성 및 초기화시에도 동일한 로직이 적용된다.\n"
   ]
  },
  {
   "cell_type": "code",
   "execution_count": null,
   "metadata": {},
   "outputs": [],
   "source": [
    "age_dict = {\"Nubzuki\": 8, \"Nubzuki\": 9, \"Nubzuki\": 10}\n",
    "print(age_dict)"
   ]
  },
  {
   "cell_type": "markdown",
   "metadata": {},
   "source": [
    "사전 자료형의 대표적인 메소드 중 네 가지를 소개한다.\n",
    "\n",
    "`keys`, `values`, `items`, `get`\n"
   ]
  },
  {
   "cell_type": "code",
   "execution_count": null,
   "metadata": {},
   "outputs": [],
   "source": [
    "age_dict = {\"Hoi\": 9, \"Kui\": 25, \"Daro\": 52}\n",
    "print(age_dict.keys()) # 딕셔너리 객체의 key 값들을 모아 의사 리스트 형태로 만듦 (리스트는 아님)\n",
    "print(age_dict.values()) # value 값들을 모아 의사 리스트 형태로 만듦\n",
    "print(age_dict.items()) # 원소(key-value 쌍)들을 모아 의사 리스트 형태로 만듦\n",
    "print(age_dict.get(\"Kui\", \"No key\"), end=\", \") # 특정 값이 딕셔너리의 key값으로 존재하면  대응되는 value를 출력, 없으면 두번째 파라미터의 값을 내뱉음 (디폴트값은 None)\n",
    "print(age_dict.get(\"Santa Claus\", \"No key\"), end=\", \")"
   ]
  },
  {
   "cell_type": "markdown",
   "metadata": {},
   "source": [
    "in 연산자로 key가 존재하는 지를 확인할 수도 있다.\n"
   ]
  },
  {
   "cell_type": "code",
   "execution_count": null,
   "metadata": {},
   "outputs": [],
   "source": [
    "print(\"Kui\" in age_dict, end=\", \") # 특정 값이 딕셔너리의 key값으로 존재하는가 \n",
    "print(\"Santa Claus\" in age_dict)"
   ]
  },
  {
   "cell_type": "markdown",
   "metadata": {},
   "source": [
    "사전 자료형의 병합은 다음과 같이 수행할 수 있다\n"
   ]
  },
  {
   "cell_type": "code",
   "execution_count": null,
   "metadata": {},
   "outputs": [],
   "source": [
    "kui_dict= {\"name\": \"Kui\", \"Age\": 25}\n",
    "temp_dict = {\"trait\": ['cute', 'adorable', 'smart'], \"phone\": None}\n",
    "# 방법 1 (파이썬 3.5 버전 이상부터 지원)\n",
    "print({**kui_dict, **temp_dict})\n",
    "print({**temp_dict, **kui_dict}) # 파라미터 순서에 따라 달라지는 출력 결과\n",
    "# 방법 2 - update 메소드 사용\n",
    "print(kui_dict)\n",
    "kui_dict.update(temp_dict)\n",
    "print(kui_dict)\n"
   ]
  }
 ],
 "metadata": {
  "kernelspec": {
   "display_name": "Python 3",
   "language": "python",
   "name": "python3"
  },
  "language_info": {
   "codemirror_mode": {
    "name": "ipython",
    "version": 3
   },
   "file_extension": ".py",
   "mimetype": "text/x-python",
   "name": "python",
   "nbconvert_exporter": "python",
   "pygments_lexer": "ipython3",
   "version": "3.11.4"
  }
 },
 "nbformat": 4,
 "nbformat_minor": 2
}
