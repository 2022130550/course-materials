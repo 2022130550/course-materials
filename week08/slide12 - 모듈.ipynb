{
    "cells": [
        {
            "cell_type": "markdown",
            "metadata": {},
            "source": [
                "**본 자료는 [이 페이지](https://github.com/seunghoon2334/python101/blob/master/%EA%B0%95%EC%9D%98%EB%85%B8%ED%8A%B8/06_module.ipynb)에서 제공한 자료를 이용하였습니다.**\n"
            ]
        },
        {
            "cell_type": "markdown",
            "metadata": {},
            "source": [
                "## 모듈\n"
            ]
        },
        {
            "cell_type": "markdown",
            "metadata": {},
            "source": [
                "python에는 기본적으로 제공되는 모듈들이 있습니다.\n",
                "\n",
                "[표준 라이브러리](https://docs.python.org/ko/3/library/index.html)에서 제공되는 모듈을 확인해보세요!\n",
                "\n",
                "여기 있는 모든 내용을 외울 필요도 없고, 이런 것이 있다만 확인해보세요 :)\n",
                "\n",
                "우리가 사용했던 `random` 역시도 표준라이브러리에서 제공되고 있는 모듈이며, 난수를 발생시키는 모듈입니다.\n"
            ]
        },
        {
            "cell_type": "code",
            "execution_count": 2,
            "metadata": {},
            "outputs": [
                {
                    "name": "stdout",
                    "output_type": "stream",
                    "text": [
                        "[2, 4, 7, 12, 40, 43]\n"
                    ]
                }
            ],
            "source": [
                "# 로또 번호 추천을 해보세요!\n",
                "import random\n",
                "lotto = random.sample(range(1, 46), 6)\n",
                "print(sorted(lotto))"
            ]
        },
        {
            "cell_type": "markdown",
            "metadata": {},
            "source": [
                "### `import`\n",
                "\n",
                "- 모듈을 활용하기 위해서는 반드시 `import`문을 통해 내장 모듈을 이름 공간으로 가져와야합니다.\n"
            ]
        },
        {
            "cell_type": "code",
            "execution_count": 3,
            "metadata": {},
            "outputs": [
                {
                    "name": "stdout",
                    "output_type": "stream",
                    "text": [
                        "['BPF', 'LOG4', 'NV_MAGICCONST', 'RECIP_BPF', 'Random', 'SG_MAGICCONST', 'SystemRandom', 'TWOPI', '_BuiltinMethodType', '_MethodType', '_Sequence', '_Set', '__all__', '__builtins__', '__cached__', '__doc__', '__file__', '__loader__', '__name__', '__package__', '__spec__', '_acos', '_bisect', '_ceil', '_cos', '_e', '_exp', '_inst', '_itertools', '_log', '_pi', '_random', '_sha512', '_sin', '_sqrt', '_test', '_test_generator', '_urandom', '_warn', 'betavariate', 'choice', 'choices', 'expovariate', 'gammavariate', 'gauss', 'getrandbits', 'getstate', 'lognormvariate', 'normalvariate', 'paretovariate', 'randint', 'random', 'randrange', 'sample', 'seed', 'setstate', 'shuffle', 'triangular', 'uniform', 'vonmisesvariate', 'weibullvariate']\n"
                    ]
                }
            ],
            "source": [
                "# random을 확인해봅시다!\n",
                "import random\n",
                "print(dir(random))"
            ]
        },
        {
            "cell_type": "markdown",
            "metadata": {},
            "source": [
                "- `import`는 다양한 방법으로 할 수 있습니다.\n",
                "\n",
                "### `from` _모듈명_ `import` _어트리뷰트_\n",
                "\n",
                "특정한 함수 혹은 어트리뷰트만 활용하고 싶을 때, 위와 같이 작성합니다.\n"
            ]
        },
        {
            "cell_type": "code",
            "execution_count": 4,
            "metadata": {},
            "outputs": [
                {
                    "name": "stdout",
                    "output_type": "stream",
                    "text": [
                        "Requirement already satisfied: bs4 in c:\\users\\student\\appdata\\local\\programs\\python\\python36\\lib\\site-packages (0.0.1)\n",
                        "Requirement already satisfied: beautifulsoup4 in c:\\users\\student\\appdata\\local\\programs\\python\\python36\\lib\\site-packages (from bs4) (4.6.3)\n"
                    ]
                }
            ],
            "source": [
                "!pip install bs4"
            ]
        },
        {
            "cell_type": "markdown",
            "metadata": {},
            "source": [
                "## 내가 필요한 모듈을 어떻게 찾을까?\n",
                "\n",
                "- 구글에서 검색하기\n",
                "- Github에서 검색하기\n",
                "  - 스타 몇개인지\n",
                "  - 최근 커밋이 언제 되었는지\n",
                "  - 커뮤니티가 활발한지\n",
                "- 주변에 물어보기\n"
            ]
        },
        {
            "cell_type": "code",
            "execution_count": 5,
            "metadata": {},
            "outputs": [],
            "source": [
                "# 우리가 beautifulsoup을 사용할 때 활용했던 코드를 작성해봅시다.\n",
                "from bs4 import BeautifulSoup"
            ]
        },
        {
            "cell_type": "code",
            "execution_count": 4,
            "metadata": {},
            "outputs": [],
            "source": [
                "# random 모듈 중에 sample을 바로 활용해봅시다.\n",
                "import random"
            ]
        },
        {
            "cell_type": "code",
            "execution_count": 5,
            "metadata": {},
            "outputs": [
                {
                    "data": {
                        "text/plain": [
                            "[26, 12, 2, 36, 17, 27]"
                        ]
                    },
                    "execution_count": 5,
                    "metadata": {},
                    "output_type": "execute_result"
                }
            ],
            "source": [
                "# 이름공간에 현재 sample이 없습니다.\n",
                "random.sample(range(1, 46), 6)"
            ]
        },
        {
            "cell_type": "code",
            "execution_count": 6,
            "metadata": {},
            "outputs": [
                {
                    "data": {
                        "text/plain": [
                            "[31, 28, 9, 36, 39, 38]"
                        ]
                    },
                    "execution_count": 6,
                    "metadata": {},
                    "output_type": "execute_result"
                }
            ],
            "source": [
                "# 다음과 같이 작성하면 활용할 수 있습니다.\n",
                "from random import sample\n",
                "sample(range(1, 46), 6)"
            ]
        },
        {
            "cell_type": "markdown",
            "metadata": {},
            "source": [
                "## `from` _모듈명_ `import` `*`\n",
                "\n",
                "해당하는 모듈 내의 모든 변수, 함수, 클래스를 가져옵니다.\n"
            ]
        },
        {
            "cell_type": "code",
            "execution_count": 7,
            "metadata": {},
            "outputs": [
                {
                    "data": {
                        "text/plain": [
                            "'소불고기'"
                        ]
                    },
                    "execution_count": 7,
                    "metadata": {},
                    "output_type": "execute_result"
                }
            ],
            "source": [
                "# random을 다가져와서 choice를 바로 활용해봅시다.\n",
                "random.choice(['소불고기', '날치알밥'])"
            ]
        },
        {
            "cell_type": "code",
            "execution_count": 9,
            "metadata": {},
            "outputs": [
                {
                    "data": {
                        "text/plain": [
                            "'날치알밥'"
                        ]
                    },
                    "execution_count": 9,
                    "metadata": {},
                    "output_type": "execute_result"
                }
            ],
            "source": [
                "from random import *\n",
                "choice(['소불고기', '날치알밥'])"
            ]
        },
        {
            "cell_type": "markdown",
            "metadata": {},
            "source": [
                "## `from` _모듈명_ `import` _어트리뷰트_ `as`\n",
                "\n",
                "내가 지정하는 이름을 붙여 가져올 수 있습니다.\n"
            ]
        },
        {
            "cell_type": "code",
            "execution_count": 10,
            "metadata": {},
            "outputs": [
                {
                    "data": {
                        "text/plain": [
                            "2"
                        ]
                    },
                    "execution_count": 10,
                    "metadata": {},
                    "output_type": "execute_result"
                }
            ],
            "source": [
                "# 축약형으로 내가 지정할 수도 있습니다.\n",
                "from random import choice as c\n",
                "c([1, 2])"
            ]
        },
        {
            "cell_type": "markdown",
            "metadata": {},
            "source": [
                "# 숫자 관련 함수\n",
                "\n",
                "이외에도 분수(frctions), 십진(decimal), 통계(statistics)등이 있습니다.\n",
                "\n",
                "## 수학 관련 함수(math)\n"
            ]
        },
        {
            "cell_type": "markdown",
            "metadata": {},
            "source": [
                "다음의 기본 함수는 `import`없이 활용하였습니다.\n",
                "\n",
                "`sum`, `max`, `min`, `abs`, `pow`, `round`, `divmod`\n"
            ]
        },
        {
            "cell_type": "code",
            "execution_count": 11,
            "metadata": {},
            "outputs": [],
            "source": [
                "# math를 불러옵시다.\n",
                "import math"
            ]
        },
        {
            "cell_type": "markdown",
            "metadata": {},
            "source": [
                "- 활용할 수 있는 상수는 다음과 같습니다.\n"
            ]
        },
        {
            "cell_type": "code",
            "execution_count": 12,
            "metadata": {},
            "outputs": [
                {
                    "data": {
                        "text/plain": [
                            "3.141592653589793"
                        ]
                    },
                    "execution_count": 12,
                    "metadata": {},
                    "output_type": "execute_result"
                }
            ],
            "source": [
                "# 원주율(pi)\n",
                "math.pi"
            ]
        },
        {
            "cell_type": "code",
            "execution_count": 13,
            "metadata": {},
            "outputs": [
                {
                    "data": {
                        "text/plain": [
                            "2.718281828459045"
                        ]
                    },
                    "execution_count": 13,
                    "metadata": {},
                    "output_type": "execute_result"
                }
            ],
            "source": [
                "# 자연 상수(e)\n",
                "math.e"
            ]
        },
        {
            "cell_type": "markdown",
            "metadata": {},
            "source": [
                "- 활용할 수 있는 연산 관련 함수는 다음과 같습니다.\n",
                "\n",
                "| 함수                | 비고                            |\n",
                "| ------------------- | ------------------------------- |\n",
                "| math.ceil(x)        | 소수점 올림                     |\n",
                "| math.floor(x)       | 소수점 내림                     |\n",
                "| math.trunc(x)       | 소수점 버림                     |\n",
                "| math.copysign(x, y) | y의 부호를 x에 적용한 값        |\n",
                "| math.fabs(x)        | float 절대값 - 복소수 오류 발생 |\n",
                "| math.factorial(x)   | 팩토리얼 계산 값                |\n",
                "| math.fmod(x, y)     | float 나머지 계산               |\n",
                "| math.fsum(iterable) | float 합                        |\n",
                "| math.modf(x)        | 소수부 정수부 분리              |\n"
            ]
        },
        {
            "cell_type": "code",
            "execution_count": 22,
            "metadata": {},
            "outputs": [
                {
                    "data": {
                        "text/plain": [
                            "-1.0"
                        ]
                    },
                    "execution_count": 22,
                    "metadata": {},
                    "output_type": "execute_result"
                }
            ],
            "source": [
                "math.fmod(-3, 2)"
            ]
        },
        {
            "cell_type": "code",
            "execution_count": 23,
            "metadata": {},
            "outputs": [
                {
                    "data": {
                        "text/plain": [
                            "(-2, 1)"
                        ]
                    },
                    "execution_count": 23,
                    "metadata": {},
                    "output_type": "execute_result"
                }
            ],
            "source": [
                "divmod(-3, 2)"
            ]
        },
        {
            "cell_type": "code",
            "execution_count": 21,
            "metadata": {},
            "outputs": [
                {
                    "data": {
                        "text/plain": [
                            "21.1323"
                        ]
                    },
                    "execution_count": 21,
                    "metadata": {},
                    "output_type": "execute_result"
                }
            ],
            "source": [
                "math.fabs(-21.1323)"
            ]
        },
        {
            "cell_type": "code",
            "execution_count": 19,
            "metadata": {},
            "outputs": [
                {
                    "data": {
                        "text/plain": [
                            "6"
                        ]
                    },
                    "execution_count": 19,
                    "metadata": {},
                    "output_type": "execute_result"
                }
            ],
            "source": [
                "math.factorial(3)"
            ]
        },
        {
            "cell_type": "code",
            "execution_count": 14,
            "metadata": {},
            "outputs": [
                {
                    "data": {
                        "text/plain": [
                            "3"
                        ]
                    },
                    "execution_count": 14,
                    "metadata": {},
                    "output_type": "execute_result"
                }
            ],
            "source": [
                "# 올림\n",
                "math.ceil(2.18)"
            ]
        },
        {
            "cell_type": "code",
            "execution_count": 15,
            "metadata": {},
            "outputs": [
                {
                    "data": {
                        "text/plain": [
                            "2"
                        ]
                    },
                    "execution_count": 15,
                    "metadata": {},
                    "output_type": "execute_result"
                }
            ],
            "source": [
                "# 내림\n",
                "math.floor(2.18)"
            ]
        },
        {
            "cell_type": "code",
            "execution_count": 16,
            "metadata": {},
            "outputs": [
                {
                    "data": {
                        "text/plain": [
                            "2"
                        ]
                    },
                    "execution_count": 16,
                    "metadata": {},
                    "output_type": "execute_result"
                }
            ],
            "source": [
                "# 버림\n",
                "math.trunc(2.18)"
            ]
        },
        {
            "cell_type": "code",
            "execution_count": 17,
            "metadata": {},
            "outputs": [
                {
                    "data": {
                        "text/plain": [
                            "-3"
                        ]
                    },
                    "execution_count": 17,
                    "metadata": {},
                    "output_type": "execute_result"
                }
            ],
            "source": [
                "# 내림의 음수 처리\n",
                "math.floor(-2.18)"
            ]
        },
        {
            "cell_type": "code",
            "execution_count": 18,
            "metadata": {},
            "outputs": [
                {
                    "data": {
                        "text/plain": [
                            "-2"
                        ]
                    },
                    "execution_count": 18,
                    "metadata": {},
                    "output_type": "execute_result"
                }
            ],
            "source": [
                "# 버림의 음수 처리\n",
                "math.trunc(-2.18)"
            ]
        },
        {
            "cell_type": "markdown",
            "metadata": {},
            "source": [
                "- 로그, 지수 연산은 다음과 같습니다.\n",
                "\n",
                "| 함수                | 비고                  |\n",
                "| ------------------- | --------------------- |\n",
                "| math.pow(x,y)       | x의 y승 결과          |\n",
                "| math.sqrt(x)        | x의 제곱근의 결과     |\n",
                "| math.exp(x)         | e^x 결과              |\n",
                "| math.log(x[, base]) | 밑을 base로 하는 logx |\n"
            ]
        },
        {
            "cell_type": "code",
            "execution_count": 28,
            "metadata": {},
            "outputs": [
                {
                    "data": {
                        "text/plain": [
                            "64.0"
                        ]
                    },
                    "execution_count": 28,
                    "metadata": {},
                    "output_type": "execute_result"
                }
            ],
            "source": [
                "# 제곱\n",
                "math.pow(2, 6)"
            ]
        },
        {
            "cell_type": "code",
            "execution_count": 30,
            "metadata": {},
            "outputs": [
                {
                    "data": {
                        "text/plain": [
                            "64"
                        ]
                    },
                    "execution_count": 30,
                    "metadata": {},
                    "output_type": "execute_result"
                }
            ],
            "source": [
                "pow(2, 6)"
            ]
        },
        {
            "cell_type": "code",
            "execution_count": 31,
            "metadata": {},
            "outputs": [
                {
                    "data": {
                        "text/plain": [
                            "2.0"
                        ]
                    },
                    "execution_count": 31,
                    "metadata": {},
                    "output_type": "execute_result"
                }
            ],
            "source": [
                "# 제곱근\n",
                "math.sqrt(4)"
            ]
        },
        {
            "cell_type": "code",
            "execution_count": 32,
            "metadata": {},
            "outputs": [
                {
                    "data": {
                        "text/plain": [
                            "2.718281828459045"
                        ]
                    },
                    "execution_count": 32,
                    "metadata": {},
                    "output_type": "execute_result"
                }
            ],
            "source": [
                "# e\n",
                "math.exp(1)"
            ]
        },
        {
            "cell_type": "code",
            "execution_count": 33,
            "metadata": {},
            "outputs": [
                {
                    "data": {
                        "text/plain": [
                            "1.0"
                        ]
                    },
                    "execution_count": 33,
                    "metadata": {},
                    "output_type": "execute_result"
                }
            ],
            "source": [
                "# 로그 계산\n",
                "math.log(math.e)"
            ]
        },
        {
            "cell_type": "code",
            "execution_count": 34,
            "metadata": {},
            "outputs": [
                {
                    "data": {
                        "text/plain": [
                            "2.0"
                        ]
                    },
                    "execution_count": 34,
                    "metadata": {},
                    "output_type": "execute_result"
                }
            ],
            "source": [
                "# 지정된 밑의 로그 계산\n",
                "math.log(100, 10)"
            ]
        },
        {
            "cell_type": "markdown",
            "metadata": {},
            "source": [
                "- 삼각함수는 다음과 같습니다.\n",
                "\n",
                "```\n",
                "sin, cos, tan\n",
                "asin, acos, atan,\n",
                "sinh, cosh, tanh,\n",
                "ashinh, acosh, atanh\n",
                "```\n"
            ]
        },
        {
            "cell_type": "markdown",
            "metadata": {},
            "source": [
                "## 날짜 관련 모듈\n",
                "\n",
                "### datetime\n"
            ]
        },
        {
            "cell_type": "code",
            "execution_count": 15,
            "metadata": {
                "scrolled": true
            },
            "outputs": [],
            "source": [
                "# 1970년 1월 1일부터 1초씩 증가합니다.\n",
                "# 지금을 출력해봅시다.\n",
                "import datetime\n",
                "now = datetime.datetime.now()"
            ]
        },
        {
            "cell_type": "markdown",
            "metadata": {},
            "source": [
                "- 시간 형식지정\n",
                "\n",
                "| 형식 지시자(directive) | 의미                   |\n",
                "| ---------------------- | ---------------------- |\n",
                "| %y                     | 연도표기(00~99)        |\n",
                "| %Y                     | 연도표기(전체)         |\n",
                "| %b                     | 월 이름(축약)          |\n",
                "| %B                     | 월 이름(전체)          |\n",
                "| %m                     | 월 숫자(01~12)         |\n",
                "| %d                     | 일(01~31)              |\n",
                "| %H                     | 24시간 기준(00~23)     |\n",
                "| %I                     | 12시간 기준(01~12)     |\n",
                "| %M                     | 분(00~59)              |\n",
                "| %S                     | 초(00~61)              |\n",
                "| %p                     | 오전/오후              |\n",
                "| %a                     | 요일(축약)             |\n",
                "| %A                     | 요일(전체)             |\n",
                "| %w                     | 요일(숫자 : 일요일(0)) |\n",
                "| %j                     | 1월 1일부터 누적 날짜  |\n"
            ]
        },
        {
            "cell_type": "code",
            "execution_count": 16,
            "metadata": {},
            "outputs": [
                {
                    "data": {
                        "text/plain": [
                            "'2023'"
                        ]
                    },
                    "execution_count": 16,
                    "metadata": {},
                    "output_type": "execute_result"
                }
            ],
            "source": [
                "# 내가 원하는대로 예쁘게 출력해봅시다.\n",
                "now = datetime.datetime.now()\n",
                "now.strftime('%Y')"
            ]
        },
        {
            "cell_type": "markdown",
            "metadata": {},
            "source": [
                "| 속성/메소드 | 내용                 |\n",
                "| ----------- | -------------------- |\n",
                "| .year       | 년                   |\n",
                "| .month      | 월                   |\n",
                "| .day        | 일                   |\n",
                "| .hour       | 시                   |\n",
                "| .minute     | 분                   |\n",
                "| .second     | 초                   |\n",
                "| .weekday()  | 월요일을 0부터 6까지 |\n"
            ]
        },
        {
            "cell_type": "code",
            "execution_count": 17,
            "metadata": {},
            "outputs": [
                {
                    "data": {
                        "text/plain": [
                            "'2023년 10월'"
                        ]
                    },
                    "execution_count": 17,
                    "metadata": {},
                    "output_type": "execute_result"
                }
            ],
            "source": [
                "# 월요일 0부터\n",
                "f'{now.year}년 {now.month}월'"
            ]
        },
        {
            "cell_type": "markdown",
            "metadata": {},
            "source": [
                "- 특정한 날짜 만들기\n",
                "\n",
                "`datetime.date(year, month, day, hour, minute, second, microsecond)`\n"
            ]
        },
        {
            "cell_type": "code",
            "execution_count": 19,
            "metadata": {},
            "outputs": [
                {
                    "name": "stdout",
                    "output_type": "stream",
                    "text": [
                        "2023-12-25 00:00:00\n"
                    ]
                }
            ],
            "source": [
                "# 크리스마스를 만들어봅시다.\n",
                "christmas = datetime.datetime(2023, 12, 25)\n",
                "print(christmas)"
            ]
        },
        {
            "cell_type": "markdown",
            "metadata": {},
            "source": [
                "## timedelta\n",
                "\n",
                "```python\n",
                "from datetime import timedelta\n",
                "```\n"
            ]
        },
        {
            "cell_type": "code",
            "execution_count": 20,
            "metadata": {},
            "outputs": [],
            "source": [
                "# import 해봅시다.\n",
                "from datetime import timedelta"
            ]
        },
        {
            "cell_type": "code",
            "execution_count": 21,
            "metadata": {},
            "outputs": [
                {
                    "name": "stdout",
                    "output_type": "stream",
                    "text": [
                        "-3 days, 0:00:00\n"
                    ]
                }
            ],
            "source": [
                "# 활용해봅시다.\n",
                "ago = timedelta(days=-3)\n",
                "print(ago)"
            ]
        },
        {
            "cell_type": "code",
            "execution_count": 22,
            "metadata": {},
            "outputs": [
                {
                    "data": {
                        "text/plain": [
                            "datetime.datetime(2023, 10, 16, 14, 45, 5, 377718)"
                        ]
                    },
                    "execution_count": 22,
                    "metadata": {},
                    "output_type": "execute_result"
                }
            ],
            "source": [
                "# 비교 및 연산이 가능합니다.\n",
                "now + ago"
            ]
        },
        {
            "cell_type": "code",
            "execution_count": 23,
            "metadata": {},
            "outputs": [
                {
                    "data": {
                        "text/plain": [
                            "datetime.datetime(2024, 1, 27, 14, 45, 5, 377718)"
                        ]
                    },
                    "execution_count": 23,
                    "metadata": {},
                    "output_type": "execute_result"
                }
            ],
            "source": [
                "# 오늘부터 1일일때, 100일 뒤는?\n",
                "ago = timedelta(days=100)\n",
                "now + ago"
            ]
        },
        {
            "cell_type": "code",
            "execution_count": 24,
            "metadata": {},
            "outputs": [],
            "source": [
                "# 크리스마스부터 지금까지 얼마나 지났을까?\n",
                "diff = christmas - now"
            ]
        },
        {
            "cell_type": "code",
            "execution_count": 26,
            "metadata": {},
            "outputs": [],
            "source": [
                "dday = datetime.datetime(2023, 10, 20)\n",
                "dnow = dday - now"
            ]
        },
        {
            "cell_type": "code",
            "execution_count": 27,
            "metadata": {},
            "outputs": [
                {
                    "data": {
                        "text/plain": [
                            "33294.622282"
                        ]
                    },
                    "execution_count": 27,
                    "metadata": {},
                    "output_type": "execute_result"
                }
            ],
            "source": [
                "dnow.total_seconds()"
            ]
        },
        {
            "cell_type": "code",
            "execution_count": 28,
            "metadata": {},
            "outputs": [
                {
                    "data": {
                        "text/plain": [
                            "5735694.622282"
                        ]
                    },
                    "execution_count": 28,
                    "metadata": {},
                    "output_type": "execute_result"
                }
            ],
            "source": [
                "# 초로 만들어봅시다.\n",
                "diff.total_seconds()"
            ]
        }
    ],
    "metadata": {
        "kernelspec": {
            "display_name": "Python 3",
            "language": "python",
            "name": "python3"
        },
        "language_info": {
            "codemirror_mode": {
                "name": "ipython",
                "version": 3
            },
            "file_extension": ".py",
            "mimetype": "text/x-python",
            "name": "python",
            "nbconvert_exporter": "python",
            "pygments_lexer": "ipython3",
            "version": "3.11.4"
        },
        "latex_envs": {
            "LaTeX_envs_menu_present": true,
            "autoclose": false,
            "autocomplete": true,
            "bibliofile": "biblio.bib",
            "cite_by": "apalike",
            "current_citInitial": 1,
            "eqLabelWithNumbers": true,
            "eqNumInitial": 1,
            "hotkeys": {
                "equation": "Ctrl-E",
                "itemize": "Ctrl-I"
            },
            "labels_anchors": false,
            "latex_user_defs": false,
            "report_style_numbering": false,
            "user_envs_cfg": false
        },
        "toc": {
            "base_numbering": 1,
            "nav_menu": {},
            "number_sections": true,
            "sideBar": true,
            "skip_h1_title": false,
            "title_cell": "Table of Contents",
            "title_sidebar": "Contents",
            "toc_cell": false,
            "toc_position": {},
            "toc_section_display": true,
            "toc_window_display": false
        }
    },
    "nbformat": 4,
    "nbformat_minor": 2
}
